{
  "cells": [
    {
      "cell_type": "markdown",
      "metadata": {
        "id": "dXuT3NI2PuyO"
      },
      "source": [
        "# Evaluating the performance of Gradient Descent and Newton’s methods on Logistic Regression Problems\n",
        "\n",
        "The following is a project aiming to compare the performance of two of the most important methods used in the context of optimization for machine learning: Gradient Descent and Newton's method.\n",
        "\n",
        "It will mainly consist on implementing classes and functions allowing to load data to build an instance of logistic regression problem with ℓ2-regularization, compute the loss, its gradient and the Hessian.\n",
        "\n",
        "Then, both methods will be implemented, the GD method will also implement the Armijo rule to update the learning rate."
      ]
    },
    {
      "cell_type": "code",
      "execution_count": 3,
      "metadata": {
        "id": "LAusxnu-BLFE"
      },
      "outputs": [],
      "source": [
        "import time\n",
        "import random\n",
        "import urllib.request\n",
        "import pandas as pd\n",
        "import numpy as np\n",
        "import sklearn as sk\n",
        "import matplotlib.pyplot as plt\n",
        "\n",
        "from sklearn.model_selection import train_test_split\n",
        "from sklearn.preprocessing import StandardScaler\n",
        "from sklearn import datasets\n",
        "from sklearn.datasets import load_svmlight_file"
      ]
    },
    {
      "cell_type": "markdown",
      "metadata": {
        "id": "RoY9WlXbOdpv"
      },
      "source": [
        "# First I define the functions to calculate the gradient and hessian"
      ]
    },
    {
      "cell_type": "code",
      "execution_count": null,
      "metadata": {
        "id": "1uqE_XHkC5uc"
      },
      "outputs": [],
      "source": [
        "def calculate_gradient(y, X, params):\n",
        "    n = X.shape[0]\n",
        "\n",
        "    w = params[:-1]  # weights\n",
        "    b = params[-1]   # bias\n",
        "\n",
        "    z = (X @ w + b)\n",
        "    z = np.clip(z, -500, 500)\n",
        "\n",
        "    sig = 1 / (1 + np.exp(-z))\n",
        "\n",
        "    error = sig - y\n",
        "\n",
        "    grad_w = (X.T @ error)/ n + .1 * w\n",
        "    grad_b = np.sum(error)/ n\n",
        "\n",
        "    grad = np.append(grad_w, grad_b)\n",
        "\n",
        "    return grad\n",
        "\n",
        "def calculate_hessian(y, X, params):\n",
        "    n = X.shape[0]\n",
        "\n",
        "    w = params[:-1]\n",
        "    b = params[-1]\n",
        "\n",
        "    z = X @ w + b\n",
        "    mu = 1 / (1 + np.exp(-z))  # sigmoid(z)\n",
        "    D = mu * (1 - mu)          # shape (n,)\n",
        "\n",
        "    DX = X * D[:, np.newaxis]\n",
        "\n",
        "    H_w = (X.T @ DX) / n + .1 * np.eye(len(w))\n",
        "    H_wb = np.sum(DX, axis=0) / n\n",
        "    H_b = np.sum(D) / n\n",
        "\n",
        "    # Assemble the full Hessian matrix\n",
        "    H_top = np.hstack([H_w, H_wb[:, np.newaxis]])\n",
        "    H_bottom = np.append(H_wb, H_b)[np.newaxis, :]\n",
        "    H = np.vstack([H_top, H_bottom])\n",
        "\n",
        "    return H"
      ]
    },
    {
      "cell_type": "markdown",
      "source": [
        "This loss computation will be useful to iterate over Armijo's rule for GD calculation.\n",
        "\n",
        "It's different from the one to be optimized later on, as this must be evaluated on different points to evaluate Armijo's rule."
      ],
      "metadata": {
        "id": "O0pMovCApe80"
      }
    },
    {
      "cell_type": "code",
      "execution_count": null,
      "metadata": {
        "id": "VKZgyLqqfVKh"
      },
      "outputs": [],
      "source": [
        "def compute_loss(X, y, params, w_decay=0.1):\n",
        "    n_samples = X.shape[0]\n",
        "    w = params[:-1]\n",
        "    b = params[-1]\n",
        "\n",
        "    # Compute logits and clip to avoid overflow\n",
        "    z = X @ w + b\n",
        "    z = np.clip(z, -500, 500)\n",
        "    y_pred = 1 / (1 + np.exp(-z))\n",
        "\n",
        "    # Compute loss\n",
        "    loss = -(1 / n_samples) * np.sum(\n",
        "        y * np.log(y_pred + 1e-8) + (1 - y) * np.log(1 - y_pred + 1e-8)\n",
        "    )\n",
        "\n",
        "    # L2 regularization term\n",
        "    loss_l2 = loss + (w_decay / (2 * n_samples)) * np.sum(w**2)\n",
        "\n",
        "\n",
        "    return loss_l2\n"
      ]
    },
    {
      "cell_type": "markdown",
      "metadata": {
        "id": "K7wrAncnIHOg"
      },
      "source": [
        "# Then, I define the functions for the GD method and the Newton method"
      ]
    },
    {
      "cell_type": "code",
      "execution_count": null,
      "metadata": {
        "id": "MHe-2HmAuU__"
      },
      "outputs": [],
      "source": [
        "def gradient_descent1(y, X, loss_func, params, lr, max_iter= 200, threshold= 1e-6):\n",
        "\n",
        "  params = np.concatenate([params[0].flatten(), [params[1]]])\n",
        "  learning_rate = lr\n",
        "\n",
        "  #evaluate the first gradient\n",
        "  grad = calculate_gradient(y, X, params)\n",
        "\n",
        "  #Parameters for Armijo rule. These can be toggled with to compare results\n",
        "  gamma = 1e-4\n",
        "  delta = .8\n",
        "  w_decay = .1\n",
        "\n",
        "  for i in range(max_iter):\n",
        "\n",
        "    #Armijo's rule\n",
        "    lr = learning_rate\n",
        "    dk = -grad\n",
        "\n",
        "    lhs = compute_loss(X, y, params + lr * dk, w_decay)\n",
        "    rhs = compute_loss(X, y, params, w_decay) - gamma * lr * np.linalg.norm(grad)**2   #- gamma * lr * (grad @ dk)\n",
        "\n",
        "    #lhs = loss_func(params + lr * dk)\n",
        "    #rhs = loss_func(params) - gamma * lr * np.linalg.norm(grad)**2 #+ gamma * lr * (grad @ dk)\n",
        "\n",
        "    backtracks = 0\n",
        "    max_backtracks = 20\n",
        "\n",
        "    while lhs > rhs and backtracks < max_backtracks:\n",
        "        lr *= delta\n",
        "        lhs = loss_func(params + lr * dk)\n",
        "        backtracks += 1\n",
        "\n",
        "\n",
        "    #GD formula\n",
        "    params -= lr * grad\n",
        "\n",
        "    #Stoppage criteria\n",
        "    if np.linalg.norm(grad) < threshold:\n",
        "        print(f\"Converged in {i+1} iterations.\")\n",
        "        return params, i+1\n",
        "\n",
        "    grad = calculate_gradient(y, X, params)\n",
        "\n",
        "  print(f\"Done in {i+1} iterations.\")\n",
        "  return params, i+1"
      ]
    },
    {
      "cell_type": "code",
      "execution_count": null,
      "metadata": {
        "id": "zSPBQMSADXEg"
      },
      "outputs": [],
      "source": [
        "def newton_method1(y, X, params, max_iter= 200, tolerance= 1e-6):\n",
        "\n",
        "  params = np.concatenate([params[0].flatten(), [params[1]]])\n",
        "\n",
        "  grad = calculate_gradient(y, X, params)\n",
        "  hessian = calculate_hessian(y, X, params)\n",
        "\n",
        "  for i in range(max_iter):\n",
        "    if np.linalg.det(hessian) == 0:\n",
        "      print(\"Hessian is singular. Newton's method cannot proceed.\")\n",
        "      print(f\"Done in {i+1} iterations.\")\n",
        "      break\n",
        "\n",
        "    #Newton's Method formula\n",
        "    params_new = params - np.linalg.inv(hessian).dot(grad)\n",
        "    params = params_new\n",
        "\n",
        "    # Re-evaluate the gradient and hessian at the new point\n",
        "    grad = calculate_gradient(y, X, params)\n",
        "    hessian = calculate_hessian(y, X, params)\n",
        "\n",
        "\n",
        "    #Stoppage criteria. Either the gradient's norm below a threshold, or Hessian singularity\n",
        "    if (np.linalg.norm(grad) < tolerance):\n",
        "        print(f\"Converged in {i+1} iterations.\")\n",
        "        return params_new, i+1\n",
        "\n",
        "  return params, i+1 # Return params even if not converged"
      ]
    },
    {
      "cell_type": "markdown",
      "metadata": {
        "id": "22lw0_u4Q7Tl"
      },
      "source": [
        "# Logistic Regression class\n",
        "\n",
        "This class must give the user the choice for either method"
      ]
    },
    {
      "cell_type": "code",
      "execution_count": null,
      "metadata": {
        "id": "StXkGjqwBSCd"
      },
      "outputs": [],
      "source": [
        "class LogisticRegression:\n",
        "\n",
        "  def __init__(self, lr=1.1, n_iters=1000):\n",
        "    self.lr = lr\n",
        "    self.n_iters = n_iters\n",
        "    self.weights = None\n",
        "    self.bias = None\n",
        "    self.iterations = None\n",
        "\n",
        "  def fit(self, X, y, opt):\n",
        "\n",
        "    #We scale the X vector\n",
        "    scaler = StandardScaler()\n",
        "    X = scaler.fit_transform(X)\n",
        "\n",
        "    #Separate the amount of features and samples\n",
        "    n_samples, n_features = X.shape\n",
        "\n",
        "    self.weights = np.random.randn(n_features) * 0.1 #small random values\n",
        "    self.bias = random.random() * .01 #to initialize our point of search\n",
        "\n",
        "    #We store our params in a vector\n",
        "    params = [self.weights, self.bias]\n",
        "\n",
        "    #Loss function: BCE with L2 regularization\n",
        "    def loss_func(params):\n",
        "        weights = params[:-1].reshape(n_features)\n",
        "        bias = params[-1]\n",
        "\n",
        "        linear_model = np.dot(X, weights) + bias\n",
        "        y_pred = self.sigmoid(linear_model)\n",
        "        w_decay = .1\n",
        "\n",
        "        loss = -(1 / n_samples) * np.sum(y * np.log(y_pred + 1e-8) + (1 - y) * np.log(1 - y_pred + 1.e-8))\n",
        "        loss_l2 = loss + w_decay * np.sum(np.square(weights))\n",
        "        return loss_l2  # Return the calculated loss\n",
        "\n",
        "    #We can now implement the optimizer of our choice\n",
        "\n",
        "    if opt.lower() == \"gd\":\n",
        "      params, iterations = gradient_descent1(y, X, loss_func, params, self.lr)\n",
        "    elif opt.lower() == \"newton\":\n",
        "      params, iterations = newton_method1(y, X, params)\n",
        "\n",
        "    self.weights = params[:-1].reshape(n_features)\n",
        "    self.bias = params[-1]\n",
        "    self.iterations = iterations\n",
        "\n",
        "  def predict(self, X):\n",
        "    scaler = StandardScaler()\n",
        "    X = scaler.fit_transform(X)\n",
        "\n",
        "    linear_model = np.dot(X, self.weights) + self.bias\n",
        "    y_pred = self.sigmoid(linear_model)\n",
        "    y_pred_cls = [1 if i >= 0.5 else 0 for i in y_pred]\n",
        "    return np.array(y_pred_cls), self.iterations\n",
        "\n",
        "  def sigmoid(self, x):\n",
        "        return 1 / (1 + np.exp(-np.clip(x, -100, 100)))"
      ]
    },
    {
      "cell_type": "markdown",
      "metadata": {
        "id": "czaeahP5Z4Cj"
      },
      "source": [
        "# How to test?"
      ]
    },
    {
      "cell_type": "code",
      "execution_count": null,
      "metadata": {
        "collapsed": true,
        "id": "5AEhoAdsunvy"
      },
      "outputs": [],
      "source": [
        "#Store the class into a re-usable variable\n",
        "\n",
        "regressor = LogisticRegression()\n",
        "\n",
        "#This measures the accuracy\n",
        "\n",
        "def accuracy(y_true, y_pred):\n",
        "  accuracy = np.sum(y_true == y_pred) / len(y_true)\n",
        "  return accuracy"
      ]
    },
    {
      "cell_type": "markdown",
      "metadata": {
        "id": "TUvW1fHxdKVZ"
      },
      "source": [
        "The pipeline for each dataset goes as follows:\n",
        "\n",
        "\n",
        "1.   Load the dataset and split it\n",
        "2.   Calculate the predictions with the method to evaluate\n",
        "3.   Print its accuracy, store it (along with other pertinent variables) in a pd dataframe to plot later, then repeat with the next method or dataset"
      ]
    },
    {
      "cell_type": "code",
      "execution_count": null,
      "metadata": {
        "id": "tvm3zmjYKw8N"
      },
      "outputs": [],
      "source": [
        "#With the following dataframes, we will measure the accuracy and time taken by each method for each dataset\n",
        "\n",
        "results_gd = pd.DataFrame(columns=['dataset_size', 'GD_accuracy', 'GD_time', \"GD_iterations\"])\n",
        "results_newton = pd.DataFrame(columns=['dataset_size', 'Newton_accuracy', 'Newton_time', \"Newton_iterations\"])"
      ]
    },
    {
      "cell_type": "markdown",
      "metadata": {
        "id": "E89GpjpNBlnD"
      },
      "source": [
        "Let's wrap this pipeline into a single function for future simplicity!"
      ]
    },
    {
      "cell_type": "code",
      "execution_count": null,
      "metadata": {
        "id": "v8A7YCSv_uEQ"
      },
      "outputs": [],
      "source": [
        "def datafit(x_vector, y_labels, opt):\n",
        "  global results_gd, results_newton\n",
        "  #Split\n",
        "  X_train, X_test, y_train, y_test = train_test_split(x_vector, y_labels, test_size=0.2)\n",
        "\n",
        "  #Calculate\n",
        "  start_time = time.time()\n",
        "  #train the regressor with the train vectors\n",
        "  regressor.fit(X_train, y_train, opt)\n",
        "  #compute predictions from the test vector\n",
        "  predictions, iterations= regressor.predict(X_test)\n",
        "  end_time = time.time()\n",
        "\n",
        "  time_taken = end_time - start_time\n",
        "\n",
        "  #y_test is equal to the true label, while predictions are y_pred\n",
        "  acc = accuracy(np.array(y_test), predictions)\n",
        "\n",
        "  if opt.lower() == \"gd\":\n",
        "\n",
        "   results_gd = pd.concat([results_gd, pd.DataFrame([{\n",
        "    'dataset_size': X_train.shape[1],\n",
        "    'GD_accuracy': acc,\n",
        "    'GD_time': time_taken,\n",
        "    \"GD_iterations\": iterations\n",
        "      }])], ignore_index=True)\n",
        "\n",
        "  elif opt.lower() == \"newton\":\n",
        "\n",
        "   results_newton = pd.concat([results_newton, pd.DataFrame([{\n",
        "    'dataset_size': X_train.shape[1],\n",
        "    'Newton_accuracy': acc,\n",
        "    'Newton_time': time_taken,\n",
        "    \"Newton_iterations\": iterations\n",
        "      }])], ignore_index=True)\n",
        "\n",
        "\n",
        "  print(f\"LR classification accuracy with {opt} is:\", acc)"
      ]
    },
    {
      "cell_type": "markdown",
      "metadata": {
        "id": "X5TEUg-4gt12"
      },
      "source": [
        "# Now come the datasets\n",
        "\n",
        "I'll start with the datasets w4a and a2a. Since these are found in a website, they will be loaded with a url."
      ]
    },
    {
      "cell_type": "code",
      "execution_count": 1,
      "metadata": {
        "colab": {
          "base_uri": "https://localhost:8080/"
        },
        "id": "zJJk3Sx4mMKD",
        "outputId": "f9da1882-5270-47fe-dad4-4a75e5c012ea"
      },
      "outputs": [
        {
          "output_type": "stream",
          "name": "stdout",
          "text": [
            "Dataset downloaded and saved as a2a.txt\n",
            "Dataset downloaded and saved as w4a.txt\n"
          ]
        }
      ],
      "source": [
        "#Load a2a dataset\n",
        "\n",
        "url = \"https://www.csie.ntu.edu.tw/~cjlin/libsvmtools/datasets/binary/a2a\"\n",
        "save_path = \"a2a.txt\"\n",
        "\n",
        "urllib.request.urlretrieve(url, save_path)\n",
        "print(\"Dataset downloaded and saved as\", save_path)\n",
        "\n",
        "#Load w4a dataset\n",
        "\n",
        "url = \"https://www.csie.ntu.edu.tw/~cjlin/libsvmtools/datasets/binary/w4a\"\n",
        "save_path = \"w4a.txt\"\n",
        "\n",
        "urllib.request.urlretrieve(url, save_path)\n",
        "print(\"Dataset downloaded and saved as\", save_path)\n"
      ]
    },
    {
      "cell_type": "markdown",
      "source": [
        "First, in the a2a dataset I map the -1's (negative label) to 0's, so that my logistic regression can mathematically work."
      ],
      "metadata": {
        "id": "jtPN4v7A4b2V"
      }
    },
    {
      "cell_type": "code",
      "execution_count": 5,
      "metadata": {
        "colab": {
          "base_uri": "https://localhost:8080/"
        },
        "id": "NXcq0JBDmopp",
        "outputId": "98776f7b-1123-4d41-a496-5884c17c1418"
      },
      "outputs": [
        {
          "output_type": "stream",
          "name": "stdout",
          "text": [
            "2265 120\n"
          ]
        }
      ],
      "source": [
        "X, y = load_svmlight_file(\"a2a.txt\")\n",
        "\n",
        "#We map the -1's to 0's, otherwise the math won't make sense and the algorithms won't work\n",
        "y = (y == 1).astype(int)\n",
        "\n",
        "#I convert the dataframe to a numpy array\n",
        "df = pd.DataFrame(X.toarray())\n",
        "df['target'] = y\n",
        "df.to_csv(\"a2a.csv\", index=False)\n",
        "\n",
        "a2a = pd.read_csv(\"a2a.csv\")\n",
        "a2a = a2a.dropna()\n",
        "samples, features = a2a.shape\n",
        "\n",
        "print(samples, features)\n"
      ]
    },
    {
      "cell_type": "code",
      "execution_count": 6,
      "metadata": {
        "colab": {
          "base_uri": "https://localhost:8080/",
          "height": 193
        },
        "id": "1wuCrz_rm6uY",
        "outputId": "16d508cd-f5a7-4f09-fc24-3354f6455f83"
      },
      "outputs": [
        {
          "output_type": "stream",
          "name": "stdout",
          "text": [
            "{np.int64(0): np.int64(1693), np.int64(1): np.int64(572)}\n"
          ]
        },
        {
          "output_type": "error",
          "ename": "NameError",
          "evalue": "name 'datafit' is not defined",
          "traceback": [
            "\u001b[0;31m---------------------------------------------------------------------------\u001b[0m",
            "\u001b[0;31mNameError\u001b[0m                                 Traceback (most recent call last)",
            "\u001b[0;32m/tmp/ipython-input-6-2105180777.py\u001b[0m in \u001b[0;36m<cell line: 0>\u001b[0;34m()\u001b[0m\n\u001b[1;32m      8\u001b[0m \u001b[0;34m\u001b[0m\u001b[0m\n\u001b[1;32m      9\u001b[0m \u001b[0;31m#And here we call the datafit function to do the whole process. We will test the GD method\u001b[0m\u001b[0;34m\u001b[0m\u001b[0;34m\u001b[0m\u001b[0m\n\u001b[0;32m---> 10\u001b[0;31m \u001b[0mdatafit\u001b[0m\u001b[0;34m(\u001b[0m\u001b[0mX\u001b[0m\u001b[0;34m,\u001b[0m \u001b[0my\u001b[0m\u001b[0;34m,\u001b[0m \u001b[0;34m\"GD\"\u001b[0m\u001b[0;34m)\u001b[0m\u001b[0;34m\u001b[0m\u001b[0;34m\u001b[0m\u001b[0m\n\u001b[0m",
            "\u001b[0;31mNameError\u001b[0m: name 'datafit' is not defined"
          ]
        }
      ],
      "source": [
        "#Load each vector\n",
        "X = a2a.drop(columns=[\"target\"]).select_dtypes(include=np.number).values\n",
        "y = a2a[\"target\"].values\n",
        "\n",
        "#This snippet will tell us how class-balanced the dataset is\n",
        "unique, counts = np.unique(y, return_counts=True)\n",
        "print(dict(zip(unique, counts)))\n",
        "\n",
        "#And here we call the datafit function to do the whole process. We will test the GD method\n",
        "datafit(X, y, \"GD\")"
      ]
    },
    {
      "cell_type": "code",
      "execution_count": null,
      "metadata": {
        "colab": {
          "base_uri": "https://localhost:8080/"
        },
        "id": "NRn0IaMQouvH",
        "outputId": "696066b5-912e-4420-cc34-74c442f79172"
      },
      "outputs": [
        {
          "output_type": "stream",
          "name": "stdout",
          "text": [
            "Converged in 6 iterations.\n",
            "LR classification accuracy with newton is: 0.8123620309050773\n"
          ]
        },
        {
          "output_type": "stream",
          "name": "stderr",
          "text": [
            "/tmp/ipython-input-146-639344508.py:30: FutureWarning: The behavior of DataFrame concatenation with empty or all-NA entries is deprecated. In a future version, this will no longer exclude empty or all-NA columns when determining the result dtypes. To retain the old behavior, exclude the relevant entries before the concat operation.\n",
            "  results_newton = pd.concat([results_newton, pd.DataFrame([{\n"
          ]
        }
      ],
      "source": [
        "#We restart X and y so that our model re-learns and is tested again on Newton's method\n",
        "X = a2a.drop(columns=[\"target\"]).select_dtypes(include=np.number).values\n",
        "y = a2a[\"target\"].values\n",
        "\n",
        "datafit(X, y, \"newton\")"
      ]
    },
    {
      "cell_type": "markdown",
      "source": [
        "We repeat the same process for the w4a dataset"
      ],
      "metadata": {
        "id": "tYSA2mbY6AvX"
      }
    },
    {
      "cell_type": "code",
      "execution_count": null,
      "metadata": {
        "colab": {
          "base_uri": "https://localhost:8080/"
        },
        "id": "-EuqXUCOpAO9",
        "outputId": "b056a26a-a22c-4a29-b5de-259b32cb15b9"
      },
      "outputs": [
        {
          "output_type": "stream",
          "name": "stdout",
          "text": [
            "7366 301\n"
          ]
        }
      ],
      "source": [
        "X, y = load_svmlight_file(\"w4a.txt\")\n",
        "\n",
        "#We map the -1's to 0's, otherwise the math won't make sense and the algorithms won't work\n",
        "y = (y == 1).astype(int)\n",
        "\n",
        "df = pd.DataFrame(X.toarray())\n",
        "df['target'] = y\n",
        "df.to_csv(\"w4a.csv\", index=False)\n",
        "\n",
        "w4a = pd.read_csv(\"w4a.csv\")\n",
        "w4a = w4a.dropna()\n",
        "samples, features = w4a.shape\n",
        "\n",
        "print(samples, features)"
      ]
    },
    {
      "cell_type": "code",
      "execution_count": null,
      "metadata": {
        "colab": {
          "base_uri": "https://localhost:8080/"
        },
        "id": "U7XenA-TpP0s",
        "outputId": "8c15e03d-47db-499f-9536-b7ffe748bdb5"
      },
      "outputs": [
        {
          "output_type": "stream",
          "name": "stdout",
          "text": [
            "Done in 200 iterations.\n",
            "LR classification accuracy with GD is: 0.9728629579375848\n"
          ]
        }
      ],
      "source": [
        "#Load\n",
        "X = w4a.drop(columns=[\"target\"]).select_dtypes(include=np.number).values\n",
        "y = w4a[\"target\"].values\n",
        "\n",
        "#This snippet will tell us how class-balanced the dataset is\n",
        "unique, counts = np.unique(y, return_counts=True)\n",
        "print(dict(zip(unique, counts)))\n",
        "\n",
        "datafit(X, y, \"GD\")"
      ]
    },
    {
      "cell_type": "code",
      "execution_count": null,
      "metadata": {
        "colab": {
          "base_uri": "https://localhost:8080/"
        },
        "id": "4D4k1aXApQk5",
        "outputId": "b862ccd2-a795-40ed-a110-1d07ff2dba27"
      },
      "outputs": [
        {
          "output_type": "stream",
          "name": "stdout",
          "text": [
            "LR classification accuracy with newton is: 0.9715061058344641\n"
          ]
        }
      ],
      "source": [
        "#Load\n",
        "X = w4a.drop(columns=[\"target\"]).select_dtypes(include=np.number).values\n",
        "y = w4a[\"target\"].values\n",
        "\n",
        "datafit(X, y, \"newton\")"
      ]
    },
    {
      "cell_type": "markdown",
      "metadata": {
        "id": "WtMonDyMKro5"
      },
      "source": [
        "# First dataset: BC"
      ]
    },
    {
      "cell_type": "code",
      "execution_count": null,
      "metadata": {
        "colab": {
          "base_uri": "https://localhost:8080/"
        },
        "id": "8E-ZUccEwPyY",
        "outputId": "7901791c-b873-47b8-b2bd-578aed6a5326"
      },
      "outputs": [
        {
          "output_type": "stream",
          "name": "stdout",
          "text": [
            "Done in 200 iterations.\n",
            "LR classification accuracy with GD is: 0.9912280701754386\n"
          ]
        }
      ],
      "source": [
        "#Load\n",
        "\n",
        "bc = datasets.load_breast_cancer()\n",
        "X, y = bc.data, bc.target\n",
        "\n",
        "#This snippet will tell us how class-balanced the dataset is\n",
        "unique, counts = np.unique(y, return_counts=True)\n",
        "print(dict(zip(unique, counts)))\n",
        "\n",
        "datafit(X, y, \"GD\")"
      ]
    },
    {
      "cell_type": "markdown",
      "source": [
        "62-48 class balance"
      ],
      "metadata": {
        "id": "NzF-DKJ7gEQp"
      }
    },
    {
      "cell_type": "code",
      "execution_count": null,
      "metadata": {
        "colab": {
          "base_uri": "https://localhost:8080/"
        },
        "id": "wM1v3mJKIZs6",
        "outputId": "a3f47808-2a11-4da5-ab77-d8f028a48cc6"
      },
      "outputs": [
        {
          "output_type": "stream",
          "name": "stdout",
          "text": [
            "Converged in 5 iterations.\n",
            "LR classification accuracy with Newton is: 0.9210526315789473\n"
          ]
        }
      ],
      "source": [
        "X, y = bc.data, bc.target\n",
        "\n",
        "datafit(X, y, \"Newton\")"
      ]
    },
    {
      "cell_type": "markdown",
      "metadata": {
        "id": "1wCDbBeCOdBu"
      },
      "source": [
        "# Second dataset: Car accident survival"
      ]
    },
    {
      "cell_type": "code",
      "execution_count": null,
      "metadata": {
        "colab": {
          "base_uri": "https://localhost:8080/"
        },
        "id": "_RI05pu05QLZ",
        "outputId": "077dce55-565b-4952-e30d-85050569bc60"
      },
      "outputs": [
        {
          "output_type": "stream",
          "name": "stdout",
          "text": [
            "196 6\n"
          ]
        }
      ],
      "source": [
        "car_acc = pd.read_csv(\"accident.csv\")\n",
        "car_acc = car_acc.dropna()\n",
        "samples, features = car_acc.shape\n",
        "\n",
        "print(samples, features)"
      ]
    },
    {
      "cell_type": "code",
      "source": [
        "car_acc = car_acc.apply(lambda col: col.astype('category').cat.codes if col.dtypes == 'object' else col)\n",
        "car_acc.head()"
      ],
      "metadata": {
        "colab": {
          "base_uri": "https://localhost:8080/",
          "height": 206
        },
        "id": "8Tw6cRydvedM",
        "outputId": "6aca8b25-e497-4623-8079-76551d270d5e"
      },
      "execution_count": null,
      "outputs": [
        {
          "output_type": "execute_result",
          "data": {
            "text/plain": [
              "   Age  Gender  Speed_of_Impact  Helmet_Used  Seatbelt_Used  Survived\n",
              "0   56       0             27.0            0              0         1\n",
              "1   69       0             46.0            0              1         1\n",
              "2   46       1             46.0            1              1         0\n",
              "3   32       1            117.0            0              1         0\n",
              "4   60       0             40.0            1              1         0"
            ],
            "text/html": [
              "\n",
              "  <div id=\"df-847f4a0c-2bbd-484c-ad63-618ad103a040\" class=\"colab-df-container\">\n",
              "    <div>\n",
              "<style scoped>\n",
              "    .dataframe tbody tr th:only-of-type {\n",
              "        vertical-align: middle;\n",
              "    }\n",
              "\n",
              "    .dataframe tbody tr th {\n",
              "        vertical-align: top;\n",
              "    }\n",
              "\n",
              "    .dataframe thead th {\n",
              "        text-align: right;\n",
              "    }\n",
              "</style>\n",
              "<table border=\"1\" class=\"dataframe\">\n",
              "  <thead>\n",
              "    <tr style=\"text-align: right;\">\n",
              "      <th></th>\n",
              "      <th>Age</th>\n",
              "      <th>Gender</th>\n",
              "      <th>Speed_of_Impact</th>\n",
              "      <th>Helmet_Used</th>\n",
              "      <th>Seatbelt_Used</th>\n",
              "      <th>Survived</th>\n",
              "    </tr>\n",
              "  </thead>\n",
              "  <tbody>\n",
              "    <tr>\n",
              "      <th>0</th>\n",
              "      <td>56</td>\n",
              "      <td>0</td>\n",
              "      <td>27.0</td>\n",
              "      <td>0</td>\n",
              "      <td>0</td>\n",
              "      <td>1</td>\n",
              "    </tr>\n",
              "    <tr>\n",
              "      <th>1</th>\n",
              "      <td>69</td>\n",
              "      <td>0</td>\n",
              "      <td>46.0</td>\n",
              "      <td>0</td>\n",
              "      <td>1</td>\n",
              "      <td>1</td>\n",
              "    </tr>\n",
              "    <tr>\n",
              "      <th>2</th>\n",
              "      <td>46</td>\n",
              "      <td>1</td>\n",
              "      <td>46.0</td>\n",
              "      <td>1</td>\n",
              "      <td>1</td>\n",
              "      <td>0</td>\n",
              "    </tr>\n",
              "    <tr>\n",
              "      <th>3</th>\n",
              "      <td>32</td>\n",
              "      <td>1</td>\n",
              "      <td>117.0</td>\n",
              "      <td>0</td>\n",
              "      <td>1</td>\n",
              "      <td>0</td>\n",
              "    </tr>\n",
              "    <tr>\n",
              "      <th>4</th>\n",
              "      <td>60</td>\n",
              "      <td>0</td>\n",
              "      <td>40.0</td>\n",
              "      <td>1</td>\n",
              "      <td>1</td>\n",
              "      <td>0</td>\n",
              "    </tr>\n",
              "  </tbody>\n",
              "</table>\n",
              "</div>\n",
              "    <div class=\"colab-df-buttons\">\n",
              "\n",
              "  <div class=\"colab-df-container\">\n",
              "    <button class=\"colab-df-convert\" onclick=\"convertToInteractive('df-847f4a0c-2bbd-484c-ad63-618ad103a040')\"\n",
              "            title=\"Convert this dataframe to an interactive table.\"\n",
              "            style=\"display:none;\">\n",
              "\n",
              "  <svg xmlns=\"http://www.w3.org/2000/svg\" height=\"24px\" viewBox=\"0 -960 960 960\">\n",
              "    <path d=\"M120-120v-720h720v720H120Zm60-500h600v-160H180v160Zm220 220h160v-160H400v160Zm0 220h160v-160H400v160ZM180-400h160v-160H180v160Zm440 0h160v-160H620v160ZM180-180h160v-160H180v160Zm440 0h160v-160H620v160Z\"/>\n",
              "  </svg>\n",
              "    </button>\n",
              "\n",
              "  <style>\n",
              "    .colab-df-container {\n",
              "      display:flex;\n",
              "      gap: 12px;\n",
              "    }\n",
              "\n",
              "    .colab-df-convert {\n",
              "      background-color: #E8F0FE;\n",
              "      border: none;\n",
              "      border-radius: 50%;\n",
              "      cursor: pointer;\n",
              "      display: none;\n",
              "      fill: #1967D2;\n",
              "      height: 32px;\n",
              "      padding: 0 0 0 0;\n",
              "      width: 32px;\n",
              "    }\n",
              "\n",
              "    .colab-df-convert:hover {\n",
              "      background-color: #E2EBFA;\n",
              "      box-shadow: 0px 1px 2px rgba(60, 64, 67, 0.3), 0px 1px 3px 1px rgba(60, 64, 67, 0.15);\n",
              "      fill: #174EA6;\n",
              "    }\n",
              "\n",
              "    .colab-df-buttons div {\n",
              "      margin-bottom: 4px;\n",
              "    }\n",
              "\n",
              "    [theme=dark] .colab-df-convert {\n",
              "      background-color: #3B4455;\n",
              "      fill: #D2E3FC;\n",
              "    }\n",
              "\n",
              "    [theme=dark] .colab-df-convert:hover {\n",
              "      background-color: #434B5C;\n",
              "      box-shadow: 0px 1px 3px 1px rgba(0, 0, 0, 0.15);\n",
              "      filter: drop-shadow(0px 1px 2px rgba(0, 0, 0, 0.3));\n",
              "      fill: #FFFFFF;\n",
              "    }\n",
              "  </style>\n",
              "\n",
              "    <script>\n",
              "      const buttonEl =\n",
              "        document.querySelector('#df-847f4a0c-2bbd-484c-ad63-618ad103a040 button.colab-df-convert');\n",
              "      buttonEl.style.display =\n",
              "        google.colab.kernel.accessAllowed ? 'block' : 'none';\n",
              "\n",
              "      async function convertToInteractive(key) {\n",
              "        const element = document.querySelector('#df-847f4a0c-2bbd-484c-ad63-618ad103a040');\n",
              "        const dataTable =\n",
              "          await google.colab.kernel.invokeFunction('convertToInteractive',\n",
              "                                                    [key], {});\n",
              "        if (!dataTable) return;\n",
              "\n",
              "        const docLinkHtml = 'Like what you see? Visit the ' +\n",
              "          '<a target=\"_blank\" href=https://colab.research.google.com/notebooks/data_table.ipynb>data table notebook</a>'\n",
              "          + ' to learn more about interactive tables.';\n",
              "        element.innerHTML = '';\n",
              "        dataTable['output_type'] = 'display_data';\n",
              "        await google.colab.output.renderOutput(dataTable, element);\n",
              "        const docLink = document.createElement('div');\n",
              "        docLink.innerHTML = docLinkHtml;\n",
              "        element.appendChild(docLink);\n",
              "      }\n",
              "    </script>\n",
              "  </div>\n",
              "\n",
              "\n",
              "    <div id=\"df-3b2acee2-85dc-4d4b-9455-3a726b7576a8\">\n",
              "      <button class=\"colab-df-quickchart\" onclick=\"quickchart('df-3b2acee2-85dc-4d4b-9455-3a726b7576a8')\"\n",
              "                title=\"Suggest charts\"\n",
              "                style=\"display:none;\">\n",
              "\n",
              "<svg xmlns=\"http://www.w3.org/2000/svg\" height=\"24px\"viewBox=\"0 0 24 24\"\n",
              "     width=\"24px\">\n",
              "    <g>\n",
              "        <path d=\"M19 3H5c-1.1 0-2 .9-2 2v14c0 1.1.9 2 2 2h14c1.1 0 2-.9 2-2V5c0-1.1-.9-2-2-2zM9 17H7v-7h2v7zm4 0h-2V7h2v10zm4 0h-2v-4h2v4z\"/>\n",
              "    </g>\n",
              "</svg>\n",
              "      </button>\n",
              "\n",
              "<style>\n",
              "  .colab-df-quickchart {\n",
              "      --bg-color: #E8F0FE;\n",
              "      --fill-color: #1967D2;\n",
              "      --hover-bg-color: #E2EBFA;\n",
              "      --hover-fill-color: #174EA6;\n",
              "      --disabled-fill-color: #AAA;\n",
              "      --disabled-bg-color: #DDD;\n",
              "  }\n",
              "\n",
              "  [theme=dark] .colab-df-quickchart {\n",
              "      --bg-color: #3B4455;\n",
              "      --fill-color: #D2E3FC;\n",
              "      --hover-bg-color: #434B5C;\n",
              "      --hover-fill-color: #FFFFFF;\n",
              "      --disabled-bg-color: #3B4455;\n",
              "      --disabled-fill-color: #666;\n",
              "  }\n",
              "\n",
              "  .colab-df-quickchart {\n",
              "    background-color: var(--bg-color);\n",
              "    border: none;\n",
              "    border-radius: 50%;\n",
              "    cursor: pointer;\n",
              "    display: none;\n",
              "    fill: var(--fill-color);\n",
              "    height: 32px;\n",
              "    padding: 0;\n",
              "    width: 32px;\n",
              "  }\n",
              "\n",
              "  .colab-df-quickchart:hover {\n",
              "    background-color: var(--hover-bg-color);\n",
              "    box-shadow: 0 1px 2px rgba(60, 64, 67, 0.3), 0 1px 3px 1px rgba(60, 64, 67, 0.15);\n",
              "    fill: var(--button-hover-fill-color);\n",
              "  }\n",
              "\n",
              "  .colab-df-quickchart-complete:disabled,\n",
              "  .colab-df-quickchart-complete:disabled:hover {\n",
              "    background-color: var(--disabled-bg-color);\n",
              "    fill: var(--disabled-fill-color);\n",
              "    box-shadow: none;\n",
              "  }\n",
              "\n",
              "  .colab-df-spinner {\n",
              "    border: 2px solid var(--fill-color);\n",
              "    border-color: transparent;\n",
              "    border-bottom-color: var(--fill-color);\n",
              "    animation:\n",
              "      spin 1s steps(1) infinite;\n",
              "  }\n",
              "\n",
              "  @keyframes spin {\n",
              "    0% {\n",
              "      border-color: transparent;\n",
              "      border-bottom-color: var(--fill-color);\n",
              "      border-left-color: var(--fill-color);\n",
              "    }\n",
              "    20% {\n",
              "      border-color: transparent;\n",
              "      border-left-color: var(--fill-color);\n",
              "      border-top-color: var(--fill-color);\n",
              "    }\n",
              "    30% {\n",
              "      border-color: transparent;\n",
              "      border-left-color: var(--fill-color);\n",
              "      border-top-color: var(--fill-color);\n",
              "      border-right-color: var(--fill-color);\n",
              "    }\n",
              "    40% {\n",
              "      border-color: transparent;\n",
              "      border-right-color: var(--fill-color);\n",
              "      border-top-color: var(--fill-color);\n",
              "    }\n",
              "    60% {\n",
              "      border-color: transparent;\n",
              "      border-right-color: var(--fill-color);\n",
              "    }\n",
              "    80% {\n",
              "      border-color: transparent;\n",
              "      border-right-color: var(--fill-color);\n",
              "      border-bottom-color: var(--fill-color);\n",
              "    }\n",
              "    90% {\n",
              "      border-color: transparent;\n",
              "      border-bottom-color: var(--fill-color);\n",
              "    }\n",
              "  }\n",
              "</style>\n",
              "\n",
              "      <script>\n",
              "        async function quickchart(key) {\n",
              "          const quickchartButtonEl =\n",
              "            document.querySelector('#' + key + ' button');\n",
              "          quickchartButtonEl.disabled = true;  // To prevent multiple clicks.\n",
              "          quickchartButtonEl.classList.add('colab-df-spinner');\n",
              "          try {\n",
              "            const charts = await google.colab.kernel.invokeFunction(\n",
              "                'suggestCharts', [key], {});\n",
              "          } catch (error) {\n",
              "            console.error('Error during call to suggestCharts:', error);\n",
              "          }\n",
              "          quickchartButtonEl.classList.remove('colab-df-spinner');\n",
              "          quickchartButtonEl.classList.add('colab-df-quickchart-complete');\n",
              "        }\n",
              "        (() => {\n",
              "          let quickchartButtonEl =\n",
              "            document.querySelector('#df-3b2acee2-85dc-4d4b-9455-3a726b7576a8 button');\n",
              "          quickchartButtonEl.style.display =\n",
              "            google.colab.kernel.accessAllowed ? 'block' : 'none';\n",
              "        })();\n",
              "      </script>\n",
              "    </div>\n",
              "\n",
              "    </div>\n",
              "  </div>\n"
            ],
            "application/vnd.google.colaboratory.intrinsic+json": {
              "type": "dataframe",
              "variable_name": "car_acc",
              "summary": "{\n  \"name\": \"car_acc\",\n  \"rows\": 196,\n  \"fields\": [\n    {\n      \"column\": \"Age\",\n      \"properties\": {\n        \"dtype\": \"number\",\n        \"std\": 15,\n        \"min\": 18,\n        \"max\": 69,\n        \"num_unique_values\": 51,\n        \"samples\": [\n          65,\n          51,\n          18\n        ],\n        \"semantic_type\": \"\",\n        \"description\": \"\"\n      }\n    },\n    {\n      \"column\": \"Gender\",\n      \"properties\": {\n        \"dtype\": \"int8\",\n        \"num_unique_values\": 2,\n        \"samples\": [\n          1,\n          0\n        ],\n        \"semantic_type\": \"\",\n        \"description\": \"\"\n      }\n    },\n    {\n      \"column\": \"Speed_of_Impact\",\n      \"properties\": {\n        \"dtype\": \"number\",\n        \"std\": 30.202236099513883,\n        \"min\": 20.0,\n        \"max\": 119.0,\n        \"num_unique_values\": 80,\n        \"samples\": [\n          37.0,\n          27.0\n        ],\n        \"semantic_type\": \"\",\n        \"description\": \"\"\n      }\n    },\n    {\n      \"column\": \"Helmet_Used\",\n      \"properties\": {\n        \"dtype\": \"int8\",\n        \"num_unique_values\": 2,\n        \"samples\": [\n          1,\n          0\n        ],\n        \"semantic_type\": \"\",\n        \"description\": \"\"\n      }\n    },\n    {\n      \"column\": \"Seatbelt_Used\",\n      \"properties\": {\n        \"dtype\": \"int8\",\n        \"num_unique_values\": 2,\n        \"samples\": [\n          1,\n          0\n        ],\n        \"semantic_type\": \"\",\n        \"description\": \"\"\n      }\n    },\n    {\n      \"column\": \"Survived\",\n      \"properties\": {\n        \"dtype\": \"number\",\n        \"std\": 0,\n        \"min\": 0,\n        \"max\": 1,\n        \"num_unique_values\": 2,\n        \"samples\": [\n          0,\n          1\n        ],\n        \"semantic_type\": \"\",\n        \"description\": \"\"\n      }\n    }\n  ]\n}"
            }
          },
          "metadata": {},
          "execution_count": 161
        }
      ]
    },
    {
      "cell_type": "code",
      "execution_count": null,
      "metadata": {
        "colab": {
          "base_uri": "https://localhost:8080/"
        },
        "collapsed": true,
        "id": "3EUvCLpkOBS8",
        "outputId": "339d0dd1-6449-47cf-d575-0f6cdbdecdda"
      },
      "outputs": [
        {
          "output_type": "stream",
          "name": "stdout",
          "text": [
            "Converged in 30 iterations.\n",
            "LR classification accuracy with GD is: 0.7\n"
          ]
        }
      ],
      "source": [
        "#Load\n",
        "X, y = car_acc.drop(columns=[\"Survived\"]), car_acc[\"Survived\"]\n",
        "\n",
        "#Check for class balance\n",
        "class_distribution = y.value_counts(normalize=True) * 100\n",
        "print(class_distribution)\n",
        "\n",
        "datafit(X, y, \"GD\")"
      ]
    },
    {
      "cell_type": "markdown",
      "source": [
        "51-49 class balance"
      ],
      "metadata": {
        "id": "6-E3Lx6UfnWV"
      }
    },
    {
      "cell_type": "code",
      "execution_count": null,
      "metadata": {
        "colab": {
          "base_uri": "https://localhost:8080/"
        },
        "collapsed": true,
        "id": "Xw40HyvYOjzW",
        "outputId": "b27b9447-54ba-45bc-c3c8-3ce375f660c8"
      },
      "outputs": [
        {
          "output_type": "stream",
          "name": "stdout",
          "text": [
            "Converged in 3 iterations.\n",
            "LR classification accuracy with Newton is: 0.475\n"
          ]
        }
      ],
      "source": [
        "X, y = car_acc.drop(columns=[\"Survived\"]), car_acc[\"Survived\"]\n",
        "\n",
        "datafit(X, y, \"Newton\")"
      ]
    },
    {
      "cell_type": "markdown",
      "metadata": {
        "id": "PU0DN7Z46_s6"
      },
      "source": [
        "# Third dataset: Twitter bot detection\n",
        "\n",
        "I got to the conclusion that this dataset is not meant for logistic regression, as most of the features are non-numerical (such as username, location, hashtags) and therefore won't contribute to the learning of a logistic regression algorithm"
      ]
    },
    {
      "cell_type": "code",
      "execution_count": null,
      "metadata": {
        "colab": {
          "base_uri": "https://localhost:8080/",
          "height": 206
        },
        "collapsed": true,
        "id": "h6o5ToJ060yh",
        "outputId": "62dce0a2-3958-4e01-f8e9-56f10569e59f"
      },
      "outputs": [
        {
          "output_type": "execute_result",
          "data": {
            "text/plain": [
              "   Retweet Count  Mention Count  Follower Count  Verified  Bot Label\n",
              "1             55              5            9617         1          0\n",
              "2              6              2            4363         1          0\n",
              "3             54              5            2242         1          1\n",
              "4             26              3            8438         0          1\n",
              "5             41              4            3792         1          1"
            ],
            "text/html": [
              "\n",
              "  <div id=\"df-5934a97e-1de5-41da-9d3e-5bfdb86126e8\" class=\"colab-df-container\">\n",
              "    <div>\n",
              "<style scoped>\n",
              "    .dataframe tbody tr th:only-of-type {\n",
              "        vertical-align: middle;\n",
              "    }\n",
              "\n",
              "    .dataframe tbody tr th {\n",
              "        vertical-align: top;\n",
              "    }\n",
              "\n",
              "    .dataframe thead th {\n",
              "        text-align: right;\n",
              "    }\n",
              "</style>\n",
              "<table border=\"1\" class=\"dataframe\">\n",
              "  <thead>\n",
              "    <tr style=\"text-align: right;\">\n",
              "      <th></th>\n",
              "      <th>Retweet Count</th>\n",
              "      <th>Mention Count</th>\n",
              "      <th>Follower Count</th>\n",
              "      <th>Verified</th>\n",
              "      <th>Bot Label</th>\n",
              "    </tr>\n",
              "  </thead>\n",
              "  <tbody>\n",
              "    <tr>\n",
              "      <th>1</th>\n",
              "      <td>55</td>\n",
              "      <td>5</td>\n",
              "      <td>9617</td>\n",
              "      <td>1</td>\n",
              "      <td>0</td>\n",
              "    </tr>\n",
              "    <tr>\n",
              "      <th>2</th>\n",
              "      <td>6</td>\n",
              "      <td>2</td>\n",
              "      <td>4363</td>\n",
              "      <td>1</td>\n",
              "      <td>0</td>\n",
              "    </tr>\n",
              "    <tr>\n",
              "      <th>3</th>\n",
              "      <td>54</td>\n",
              "      <td>5</td>\n",
              "      <td>2242</td>\n",
              "      <td>1</td>\n",
              "      <td>1</td>\n",
              "    </tr>\n",
              "    <tr>\n",
              "      <th>4</th>\n",
              "      <td>26</td>\n",
              "      <td>3</td>\n",
              "      <td>8438</td>\n",
              "      <td>0</td>\n",
              "      <td>1</td>\n",
              "    </tr>\n",
              "    <tr>\n",
              "      <th>5</th>\n",
              "      <td>41</td>\n",
              "      <td>4</td>\n",
              "      <td>3792</td>\n",
              "      <td>1</td>\n",
              "      <td>1</td>\n",
              "    </tr>\n",
              "  </tbody>\n",
              "</table>\n",
              "</div>\n",
              "    <div class=\"colab-df-buttons\">\n",
              "\n",
              "  <div class=\"colab-df-container\">\n",
              "    <button class=\"colab-df-convert\" onclick=\"convertToInteractive('df-5934a97e-1de5-41da-9d3e-5bfdb86126e8')\"\n",
              "            title=\"Convert this dataframe to an interactive table.\"\n",
              "            style=\"display:none;\">\n",
              "\n",
              "  <svg xmlns=\"http://www.w3.org/2000/svg\" height=\"24px\" viewBox=\"0 -960 960 960\">\n",
              "    <path d=\"M120-120v-720h720v720H120Zm60-500h600v-160H180v160Zm220 220h160v-160H400v160Zm0 220h160v-160H400v160ZM180-400h160v-160H180v160Zm440 0h160v-160H620v160ZM180-180h160v-160H180v160Zm440 0h160v-160H620v160Z\"/>\n",
              "  </svg>\n",
              "    </button>\n",
              "\n",
              "  <style>\n",
              "    .colab-df-container {\n",
              "      display:flex;\n",
              "      gap: 12px;\n",
              "    }\n",
              "\n",
              "    .colab-df-convert {\n",
              "      background-color: #E8F0FE;\n",
              "      border: none;\n",
              "      border-radius: 50%;\n",
              "      cursor: pointer;\n",
              "      display: none;\n",
              "      fill: #1967D2;\n",
              "      height: 32px;\n",
              "      padding: 0 0 0 0;\n",
              "      width: 32px;\n",
              "    }\n",
              "\n",
              "    .colab-df-convert:hover {\n",
              "      background-color: #E2EBFA;\n",
              "      box-shadow: 0px 1px 2px rgba(60, 64, 67, 0.3), 0px 1px 3px 1px rgba(60, 64, 67, 0.15);\n",
              "      fill: #174EA6;\n",
              "    }\n",
              "\n",
              "    .colab-df-buttons div {\n",
              "      margin-bottom: 4px;\n",
              "    }\n",
              "\n",
              "    [theme=dark] .colab-df-convert {\n",
              "      background-color: #3B4455;\n",
              "      fill: #D2E3FC;\n",
              "    }\n",
              "\n",
              "    [theme=dark] .colab-df-convert:hover {\n",
              "      background-color: #434B5C;\n",
              "      box-shadow: 0px 1px 3px 1px rgba(0, 0, 0, 0.15);\n",
              "      filter: drop-shadow(0px 1px 2px rgba(0, 0, 0, 0.3));\n",
              "      fill: #FFFFFF;\n",
              "    }\n",
              "  </style>\n",
              "\n",
              "    <script>\n",
              "      const buttonEl =\n",
              "        document.querySelector('#df-5934a97e-1de5-41da-9d3e-5bfdb86126e8 button.colab-df-convert');\n",
              "      buttonEl.style.display =\n",
              "        google.colab.kernel.accessAllowed ? 'block' : 'none';\n",
              "\n",
              "      async function convertToInteractive(key) {\n",
              "        const element = document.querySelector('#df-5934a97e-1de5-41da-9d3e-5bfdb86126e8');\n",
              "        const dataTable =\n",
              "          await google.colab.kernel.invokeFunction('convertToInteractive',\n",
              "                                                    [key], {});\n",
              "        if (!dataTable) return;\n",
              "\n",
              "        const docLinkHtml = 'Like what you see? Visit the ' +\n",
              "          '<a target=\"_blank\" href=https://colab.research.google.com/notebooks/data_table.ipynb>data table notebook</a>'\n",
              "          + ' to learn more about interactive tables.';\n",
              "        element.innerHTML = '';\n",
              "        dataTable['output_type'] = 'display_data';\n",
              "        await google.colab.output.renderOutput(dataTable, element);\n",
              "        const docLink = document.createElement('div');\n",
              "        docLink.innerHTML = docLinkHtml;\n",
              "        element.appendChild(docLink);\n",
              "      }\n",
              "    </script>\n",
              "  </div>\n",
              "\n",
              "\n",
              "    <div id=\"df-be26d9a6-832c-4a58-b1b6-6104199c0173\">\n",
              "      <button class=\"colab-df-quickchart\" onclick=\"quickchart('df-be26d9a6-832c-4a58-b1b6-6104199c0173')\"\n",
              "                title=\"Suggest charts\"\n",
              "                style=\"display:none;\">\n",
              "\n",
              "<svg xmlns=\"http://www.w3.org/2000/svg\" height=\"24px\"viewBox=\"0 0 24 24\"\n",
              "     width=\"24px\">\n",
              "    <g>\n",
              "        <path d=\"M19 3H5c-1.1 0-2 .9-2 2v14c0 1.1.9 2 2 2h14c1.1 0 2-.9 2-2V5c0-1.1-.9-2-2-2zM9 17H7v-7h2v7zm4 0h-2V7h2v10zm4 0h-2v-4h2v4z\"/>\n",
              "    </g>\n",
              "</svg>\n",
              "      </button>\n",
              "\n",
              "<style>\n",
              "  .colab-df-quickchart {\n",
              "      --bg-color: #E8F0FE;\n",
              "      --fill-color: #1967D2;\n",
              "      --hover-bg-color: #E2EBFA;\n",
              "      --hover-fill-color: #174EA6;\n",
              "      --disabled-fill-color: #AAA;\n",
              "      --disabled-bg-color: #DDD;\n",
              "  }\n",
              "\n",
              "  [theme=dark] .colab-df-quickchart {\n",
              "      --bg-color: #3B4455;\n",
              "      --fill-color: #D2E3FC;\n",
              "      --hover-bg-color: #434B5C;\n",
              "      --hover-fill-color: #FFFFFF;\n",
              "      --disabled-bg-color: #3B4455;\n",
              "      --disabled-fill-color: #666;\n",
              "  }\n",
              "\n",
              "  .colab-df-quickchart {\n",
              "    background-color: var(--bg-color);\n",
              "    border: none;\n",
              "    border-radius: 50%;\n",
              "    cursor: pointer;\n",
              "    display: none;\n",
              "    fill: var(--fill-color);\n",
              "    height: 32px;\n",
              "    padding: 0;\n",
              "    width: 32px;\n",
              "  }\n",
              "\n",
              "  .colab-df-quickchart:hover {\n",
              "    background-color: var(--hover-bg-color);\n",
              "    box-shadow: 0 1px 2px rgba(60, 64, 67, 0.3), 0 1px 3px 1px rgba(60, 64, 67, 0.15);\n",
              "    fill: var(--button-hover-fill-color);\n",
              "  }\n",
              "\n",
              "  .colab-df-quickchart-complete:disabled,\n",
              "  .colab-df-quickchart-complete:disabled:hover {\n",
              "    background-color: var(--disabled-bg-color);\n",
              "    fill: var(--disabled-fill-color);\n",
              "    box-shadow: none;\n",
              "  }\n",
              "\n",
              "  .colab-df-spinner {\n",
              "    border: 2px solid var(--fill-color);\n",
              "    border-color: transparent;\n",
              "    border-bottom-color: var(--fill-color);\n",
              "    animation:\n",
              "      spin 1s steps(1) infinite;\n",
              "  }\n",
              "\n",
              "  @keyframes spin {\n",
              "    0% {\n",
              "      border-color: transparent;\n",
              "      border-bottom-color: var(--fill-color);\n",
              "      border-left-color: var(--fill-color);\n",
              "    }\n",
              "    20% {\n",
              "      border-color: transparent;\n",
              "      border-left-color: var(--fill-color);\n",
              "      border-top-color: var(--fill-color);\n",
              "    }\n",
              "    30% {\n",
              "      border-color: transparent;\n",
              "      border-left-color: var(--fill-color);\n",
              "      border-top-color: var(--fill-color);\n",
              "      border-right-color: var(--fill-color);\n",
              "    }\n",
              "    40% {\n",
              "      border-color: transparent;\n",
              "      border-right-color: var(--fill-color);\n",
              "      border-top-color: var(--fill-color);\n",
              "    }\n",
              "    60% {\n",
              "      border-color: transparent;\n",
              "      border-right-color: var(--fill-color);\n",
              "    }\n",
              "    80% {\n",
              "      border-color: transparent;\n",
              "      border-right-color: var(--fill-color);\n",
              "      border-bottom-color: var(--fill-color);\n",
              "    }\n",
              "    90% {\n",
              "      border-color: transparent;\n",
              "      border-bottom-color: var(--fill-color);\n",
              "    }\n",
              "  }\n",
              "</style>\n",
              "\n",
              "      <script>\n",
              "        async function quickchart(key) {\n",
              "          const quickchartButtonEl =\n",
              "            document.querySelector('#' + key + ' button');\n",
              "          quickchartButtonEl.disabled = true;  // To prevent multiple clicks.\n",
              "          quickchartButtonEl.classList.add('colab-df-spinner');\n",
              "          try {\n",
              "            const charts = await google.colab.kernel.invokeFunction(\n",
              "                'suggestCharts', [key], {});\n",
              "          } catch (error) {\n",
              "            console.error('Error during call to suggestCharts:', error);\n",
              "          }\n",
              "          quickchartButtonEl.classList.remove('colab-df-spinner');\n",
              "          quickchartButtonEl.classList.add('colab-df-quickchart-complete');\n",
              "        }\n",
              "        (() => {\n",
              "          let quickchartButtonEl =\n",
              "            document.querySelector('#df-be26d9a6-832c-4a58-b1b6-6104199c0173 button');\n",
              "          quickchartButtonEl.style.display =\n",
              "            google.colab.kernel.accessAllowed ? 'block' : 'none';\n",
              "        })();\n",
              "      </script>\n",
              "    </div>\n",
              "\n",
              "    </div>\n",
              "  </div>\n"
            ],
            "application/vnd.google.colaboratory.intrinsic+json": {
              "type": "dataframe",
              "variable_name": "twitter",
              "summary": "{\n  \"name\": \"twitter\",\n  \"rows\": 41659,\n  \"fields\": [\n    {\n      \"column\": \"Retweet Count\",\n      \"properties\": {\n        \"dtype\": \"number\",\n        \"std\": 29,\n        \"min\": 0,\n        \"max\": 100,\n        \"num_unique_values\": 101,\n        \"samples\": [\n          47,\n          52,\n          11\n        ],\n        \"semantic_type\": \"\",\n        \"description\": \"\"\n      }\n    },\n    {\n      \"column\": \"Mention Count\",\n      \"properties\": {\n        \"dtype\": \"number\",\n        \"std\": 1,\n        \"min\": 0,\n        \"max\": 5,\n        \"num_unique_values\": 6,\n        \"samples\": [\n          5,\n          2,\n          1\n        ],\n        \"semantic_type\": \"\",\n        \"description\": \"\"\n      }\n    },\n    {\n      \"column\": \"Follower Count\",\n      \"properties\": {\n        \"dtype\": \"number\",\n        \"std\": 2880,\n        \"min\": 0,\n        \"max\": 10000,\n        \"num_unique_values\": 9830,\n        \"samples\": [\n          2920,\n          7113,\n          1892\n        ],\n        \"semantic_type\": \"\",\n        \"description\": \"\"\n      }\n    },\n    {\n      \"column\": \"Verified\",\n      \"properties\": {\n        \"dtype\": \"number\",\n        \"std\": 0,\n        \"min\": 0,\n        \"max\": 1,\n        \"num_unique_values\": 2,\n        \"samples\": [\n          0,\n          1\n        ],\n        \"semantic_type\": \"\",\n        \"description\": \"\"\n      }\n    },\n    {\n      \"column\": \"Bot Label\",\n      \"properties\": {\n        \"dtype\": \"number\",\n        \"std\": 0,\n        \"min\": 0,\n        \"max\": 1,\n        \"num_unique_values\": 2,\n        \"samples\": [\n          1,\n          0\n        ],\n        \"semantic_type\": \"\",\n        \"description\": \"\"\n      }\n    }\n  ]\n}"
            }
          },
          "metadata": {},
          "execution_count": 165
        }
      ],
      "source": [
        "twitter = pd.read_csv(\"bot_detection_data.csv\")\n",
        "twitter = twitter.dropna()\n",
        "\n",
        "#For this dataset I tried to cut off some features I considered irrelevant\n",
        "twitter = twitter.drop(columns=[\"User ID\", \"Username\", \"Tweet\", \"Location\", \"Created At\", \"Hashtags\"])\n",
        "twitter = twitter.apply(lambda col: col.astype('category').cat.codes if col.dtypes == 'object' else col)\n",
        "twitter['Verified'] = twitter['Verified'].astype(int)\n",
        "\n",
        "twitter.head()"
      ]
    },
    {
      "cell_type": "code",
      "execution_count": null,
      "metadata": {
        "colab": {
          "base_uri": "https://localhost:8080/"
        },
        "id": "-xubJ7Gl8EI0",
        "outputId": "8812645c-154b-48d2-936a-73d6c726ca7c"
      },
      "outputs": [
        {
          "output_type": "stream",
          "name": "stdout",
          "text": [
            "Converged in 25 iterations.\n",
            "LR classification accuracy with GD is: 0.5025204032645223\n"
          ]
        }
      ],
      "source": [
        "#Load\n",
        "X, y = twitter.drop(columns=[\"Bot Label\"]), twitter[\"Bot Label\"]\n",
        "\n",
        "#Check for class balance\n",
        "class_distribution = y.value_counts(normalize=True) * 100\n",
        "print(class_distribution)\n",
        "\n",
        "datafit(X, y, \"GD\")"
      ]
    },
    {
      "cell_type": "markdown",
      "source": [
        "Almost 50-50 balanced class"
      ],
      "metadata": {
        "id": "Jkjd94uYfeHZ"
      }
    },
    {
      "cell_type": "code",
      "execution_count": null,
      "metadata": {
        "colab": {
          "base_uri": "https://localhost:8080/"
        },
        "id": "nRKyh2TF9Lcd",
        "outputId": "960fb6a7-b0b6-4494-a450-c27f04757cd2"
      },
      "outputs": [
        {
          "output_type": "stream",
          "name": "stdout",
          "text": [
            "Converged in 2 iterations.\n",
            "LR classification accuracy with newton is: 0.49891982717234756\n"
          ]
        }
      ],
      "source": [
        "X, y = twitter.drop(columns=[\"Bot Label\"]), twitter[\"Bot Label\"]\n",
        "\n",
        "datafit(X, y,\"newton\")"
      ]
    },
    {
      "cell_type": "markdown",
      "metadata": {
        "id": "E16-jUelC7ze"
      },
      "source": [
        "# Fourth dataset: Diabetes"
      ]
    },
    {
      "cell_type": "code",
      "execution_count": null,
      "metadata": {
        "colab": {
          "base_uri": "https://localhost:8080/",
          "height": 206
        },
        "id": "hZzdsQIiDAuM",
        "outputId": "360661f3-e444-4539-e1df-a4683aa35e20"
      },
      "outputs": [
        {
          "output_type": "execute_result",
          "data": {
            "text/plain": [
              "   Pregnancies  Glucose  BloodPressure  SkinThickness  Insulin   BMI  \\\n",
              "0            6      148             72             35        0  33.6   \n",
              "1            1       85             66             29        0  26.6   \n",
              "2            8      183             64              0        0  23.3   \n",
              "3            1       89             66             23       94  28.1   \n",
              "4            0      137             40             35      168  43.1   \n",
              "\n",
              "   DiabetesPedigreeFunction  Age  Outcome  \n",
              "0                     0.627   50        1  \n",
              "1                     0.351   31        0  \n",
              "2                     0.672   32        1  \n",
              "3                     0.167   21        0  \n",
              "4                     2.288   33        1  "
            ],
            "text/html": [
              "\n",
              "  <div id=\"df-185f0203-d398-4828-8fd2-a48613a16579\" class=\"colab-df-container\">\n",
              "    <div>\n",
              "<style scoped>\n",
              "    .dataframe tbody tr th:only-of-type {\n",
              "        vertical-align: middle;\n",
              "    }\n",
              "\n",
              "    .dataframe tbody tr th {\n",
              "        vertical-align: top;\n",
              "    }\n",
              "\n",
              "    .dataframe thead th {\n",
              "        text-align: right;\n",
              "    }\n",
              "</style>\n",
              "<table border=\"1\" class=\"dataframe\">\n",
              "  <thead>\n",
              "    <tr style=\"text-align: right;\">\n",
              "      <th></th>\n",
              "      <th>Pregnancies</th>\n",
              "      <th>Glucose</th>\n",
              "      <th>BloodPressure</th>\n",
              "      <th>SkinThickness</th>\n",
              "      <th>Insulin</th>\n",
              "      <th>BMI</th>\n",
              "      <th>DiabetesPedigreeFunction</th>\n",
              "      <th>Age</th>\n",
              "      <th>Outcome</th>\n",
              "    </tr>\n",
              "  </thead>\n",
              "  <tbody>\n",
              "    <tr>\n",
              "      <th>0</th>\n",
              "      <td>6</td>\n",
              "      <td>148</td>\n",
              "      <td>72</td>\n",
              "      <td>35</td>\n",
              "      <td>0</td>\n",
              "      <td>33.6</td>\n",
              "      <td>0.627</td>\n",
              "      <td>50</td>\n",
              "      <td>1</td>\n",
              "    </tr>\n",
              "    <tr>\n",
              "      <th>1</th>\n",
              "      <td>1</td>\n",
              "      <td>85</td>\n",
              "      <td>66</td>\n",
              "      <td>29</td>\n",
              "      <td>0</td>\n",
              "      <td>26.6</td>\n",
              "      <td>0.351</td>\n",
              "      <td>31</td>\n",
              "      <td>0</td>\n",
              "    </tr>\n",
              "    <tr>\n",
              "      <th>2</th>\n",
              "      <td>8</td>\n",
              "      <td>183</td>\n",
              "      <td>64</td>\n",
              "      <td>0</td>\n",
              "      <td>0</td>\n",
              "      <td>23.3</td>\n",
              "      <td>0.672</td>\n",
              "      <td>32</td>\n",
              "      <td>1</td>\n",
              "    </tr>\n",
              "    <tr>\n",
              "      <th>3</th>\n",
              "      <td>1</td>\n",
              "      <td>89</td>\n",
              "      <td>66</td>\n",
              "      <td>23</td>\n",
              "      <td>94</td>\n",
              "      <td>28.1</td>\n",
              "      <td>0.167</td>\n",
              "      <td>21</td>\n",
              "      <td>0</td>\n",
              "    </tr>\n",
              "    <tr>\n",
              "      <th>4</th>\n",
              "      <td>0</td>\n",
              "      <td>137</td>\n",
              "      <td>40</td>\n",
              "      <td>35</td>\n",
              "      <td>168</td>\n",
              "      <td>43.1</td>\n",
              "      <td>2.288</td>\n",
              "      <td>33</td>\n",
              "      <td>1</td>\n",
              "    </tr>\n",
              "  </tbody>\n",
              "</table>\n",
              "</div>\n",
              "    <div class=\"colab-df-buttons\">\n",
              "\n",
              "  <div class=\"colab-df-container\">\n",
              "    <button class=\"colab-df-convert\" onclick=\"convertToInteractive('df-185f0203-d398-4828-8fd2-a48613a16579')\"\n",
              "            title=\"Convert this dataframe to an interactive table.\"\n",
              "            style=\"display:none;\">\n",
              "\n",
              "  <svg xmlns=\"http://www.w3.org/2000/svg\" height=\"24px\" viewBox=\"0 -960 960 960\">\n",
              "    <path d=\"M120-120v-720h720v720H120Zm60-500h600v-160H180v160Zm220 220h160v-160H400v160Zm0 220h160v-160H400v160ZM180-400h160v-160H180v160Zm440 0h160v-160H620v160ZM180-180h160v-160H180v160Zm440 0h160v-160H620v160Z\"/>\n",
              "  </svg>\n",
              "    </button>\n",
              "\n",
              "  <style>\n",
              "    .colab-df-container {\n",
              "      display:flex;\n",
              "      gap: 12px;\n",
              "    }\n",
              "\n",
              "    .colab-df-convert {\n",
              "      background-color: #E8F0FE;\n",
              "      border: none;\n",
              "      border-radius: 50%;\n",
              "      cursor: pointer;\n",
              "      display: none;\n",
              "      fill: #1967D2;\n",
              "      height: 32px;\n",
              "      padding: 0 0 0 0;\n",
              "      width: 32px;\n",
              "    }\n",
              "\n",
              "    .colab-df-convert:hover {\n",
              "      background-color: #E2EBFA;\n",
              "      box-shadow: 0px 1px 2px rgba(60, 64, 67, 0.3), 0px 1px 3px 1px rgba(60, 64, 67, 0.15);\n",
              "      fill: #174EA6;\n",
              "    }\n",
              "\n",
              "    .colab-df-buttons div {\n",
              "      margin-bottom: 4px;\n",
              "    }\n",
              "\n",
              "    [theme=dark] .colab-df-convert {\n",
              "      background-color: #3B4455;\n",
              "      fill: #D2E3FC;\n",
              "    }\n",
              "\n",
              "    [theme=dark] .colab-df-convert:hover {\n",
              "      background-color: #434B5C;\n",
              "      box-shadow: 0px 1px 3px 1px rgba(0, 0, 0, 0.15);\n",
              "      filter: drop-shadow(0px 1px 2px rgba(0, 0, 0, 0.3));\n",
              "      fill: #FFFFFF;\n",
              "    }\n",
              "  </style>\n",
              "\n",
              "    <script>\n",
              "      const buttonEl =\n",
              "        document.querySelector('#df-185f0203-d398-4828-8fd2-a48613a16579 button.colab-df-convert');\n",
              "      buttonEl.style.display =\n",
              "        google.colab.kernel.accessAllowed ? 'block' : 'none';\n",
              "\n",
              "      async function convertToInteractive(key) {\n",
              "        const element = document.querySelector('#df-185f0203-d398-4828-8fd2-a48613a16579');\n",
              "        const dataTable =\n",
              "          await google.colab.kernel.invokeFunction('convertToInteractive',\n",
              "                                                    [key], {});\n",
              "        if (!dataTable) return;\n",
              "\n",
              "        const docLinkHtml = 'Like what you see? Visit the ' +\n",
              "          '<a target=\"_blank\" href=https://colab.research.google.com/notebooks/data_table.ipynb>data table notebook</a>'\n",
              "          + ' to learn more about interactive tables.';\n",
              "        element.innerHTML = '';\n",
              "        dataTable['output_type'] = 'display_data';\n",
              "        await google.colab.output.renderOutput(dataTable, element);\n",
              "        const docLink = document.createElement('div');\n",
              "        docLink.innerHTML = docLinkHtml;\n",
              "        element.appendChild(docLink);\n",
              "      }\n",
              "    </script>\n",
              "  </div>\n",
              "\n",
              "\n",
              "    <div id=\"df-78054eb2-07a7-4943-8bf3-1517a35f58e9\">\n",
              "      <button class=\"colab-df-quickchart\" onclick=\"quickchart('df-78054eb2-07a7-4943-8bf3-1517a35f58e9')\"\n",
              "                title=\"Suggest charts\"\n",
              "                style=\"display:none;\">\n",
              "\n",
              "<svg xmlns=\"http://www.w3.org/2000/svg\" height=\"24px\"viewBox=\"0 0 24 24\"\n",
              "     width=\"24px\">\n",
              "    <g>\n",
              "        <path d=\"M19 3H5c-1.1 0-2 .9-2 2v14c0 1.1.9 2 2 2h14c1.1 0 2-.9 2-2V5c0-1.1-.9-2-2-2zM9 17H7v-7h2v7zm4 0h-2V7h2v10zm4 0h-2v-4h2v4z\"/>\n",
              "    </g>\n",
              "</svg>\n",
              "      </button>\n",
              "\n",
              "<style>\n",
              "  .colab-df-quickchart {\n",
              "      --bg-color: #E8F0FE;\n",
              "      --fill-color: #1967D2;\n",
              "      --hover-bg-color: #E2EBFA;\n",
              "      --hover-fill-color: #174EA6;\n",
              "      --disabled-fill-color: #AAA;\n",
              "      --disabled-bg-color: #DDD;\n",
              "  }\n",
              "\n",
              "  [theme=dark] .colab-df-quickchart {\n",
              "      --bg-color: #3B4455;\n",
              "      --fill-color: #D2E3FC;\n",
              "      --hover-bg-color: #434B5C;\n",
              "      --hover-fill-color: #FFFFFF;\n",
              "      --disabled-bg-color: #3B4455;\n",
              "      --disabled-fill-color: #666;\n",
              "  }\n",
              "\n",
              "  .colab-df-quickchart {\n",
              "    background-color: var(--bg-color);\n",
              "    border: none;\n",
              "    border-radius: 50%;\n",
              "    cursor: pointer;\n",
              "    display: none;\n",
              "    fill: var(--fill-color);\n",
              "    height: 32px;\n",
              "    padding: 0;\n",
              "    width: 32px;\n",
              "  }\n",
              "\n",
              "  .colab-df-quickchart:hover {\n",
              "    background-color: var(--hover-bg-color);\n",
              "    box-shadow: 0 1px 2px rgba(60, 64, 67, 0.3), 0 1px 3px 1px rgba(60, 64, 67, 0.15);\n",
              "    fill: var(--button-hover-fill-color);\n",
              "  }\n",
              "\n",
              "  .colab-df-quickchart-complete:disabled,\n",
              "  .colab-df-quickchart-complete:disabled:hover {\n",
              "    background-color: var(--disabled-bg-color);\n",
              "    fill: var(--disabled-fill-color);\n",
              "    box-shadow: none;\n",
              "  }\n",
              "\n",
              "  .colab-df-spinner {\n",
              "    border: 2px solid var(--fill-color);\n",
              "    border-color: transparent;\n",
              "    border-bottom-color: var(--fill-color);\n",
              "    animation:\n",
              "      spin 1s steps(1) infinite;\n",
              "  }\n",
              "\n",
              "  @keyframes spin {\n",
              "    0% {\n",
              "      border-color: transparent;\n",
              "      border-bottom-color: var(--fill-color);\n",
              "      border-left-color: var(--fill-color);\n",
              "    }\n",
              "    20% {\n",
              "      border-color: transparent;\n",
              "      border-left-color: var(--fill-color);\n",
              "      border-top-color: var(--fill-color);\n",
              "    }\n",
              "    30% {\n",
              "      border-color: transparent;\n",
              "      border-left-color: var(--fill-color);\n",
              "      border-top-color: var(--fill-color);\n",
              "      border-right-color: var(--fill-color);\n",
              "    }\n",
              "    40% {\n",
              "      border-color: transparent;\n",
              "      border-right-color: var(--fill-color);\n",
              "      border-top-color: var(--fill-color);\n",
              "    }\n",
              "    60% {\n",
              "      border-color: transparent;\n",
              "      border-right-color: var(--fill-color);\n",
              "    }\n",
              "    80% {\n",
              "      border-color: transparent;\n",
              "      border-right-color: var(--fill-color);\n",
              "      border-bottom-color: var(--fill-color);\n",
              "    }\n",
              "    90% {\n",
              "      border-color: transparent;\n",
              "      border-bottom-color: var(--fill-color);\n",
              "    }\n",
              "  }\n",
              "</style>\n",
              "\n",
              "      <script>\n",
              "        async function quickchart(key) {\n",
              "          const quickchartButtonEl =\n",
              "            document.querySelector('#' + key + ' button');\n",
              "          quickchartButtonEl.disabled = true;  // To prevent multiple clicks.\n",
              "          quickchartButtonEl.classList.add('colab-df-spinner');\n",
              "          try {\n",
              "            const charts = await google.colab.kernel.invokeFunction(\n",
              "                'suggestCharts', [key], {});\n",
              "          } catch (error) {\n",
              "            console.error('Error during call to suggestCharts:', error);\n",
              "          }\n",
              "          quickchartButtonEl.classList.remove('colab-df-spinner');\n",
              "          quickchartButtonEl.classList.add('colab-df-quickchart-complete');\n",
              "        }\n",
              "        (() => {\n",
              "          let quickchartButtonEl =\n",
              "            document.querySelector('#df-78054eb2-07a7-4943-8bf3-1517a35f58e9 button');\n",
              "          quickchartButtonEl.style.display =\n",
              "            google.colab.kernel.accessAllowed ? 'block' : 'none';\n",
              "        })();\n",
              "      </script>\n",
              "    </div>\n",
              "\n",
              "    </div>\n",
              "  </div>\n"
            ],
            "application/vnd.google.colaboratory.intrinsic+json": {
              "type": "dataframe",
              "variable_name": "diabetes",
              "summary": "{\n  \"name\": \"diabetes\",\n  \"rows\": 768,\n  \"fields\": [\n    {\n      \"column\": \"Pregnancies\",\n      \"properties\": {\n        \"dtype\": \"number\",\n        \"std\": 3,\n        \"min\": 0,\n        \"max\": 17,\n        \"num_unique_values\": 17,\n        \"samples\": [\n          6,\n          1,\n          3\n        ],\n        \"semantic_type\": \"\",\n        \"description\": \"\"\n      }\n    },\n    {\n      \"column\": \"Glucose\",\n      \"properties\": {\n        \"dtype\": \"number\",\n        \"std\": 31,\n        \"min\": 0,\n        \"max\": 199,\n        \"num_unique_values\": 136,\n        \"samples\": [\n          151,\n          101,\n          112\n        ],\n        \"semantic_type\": \"\",\n        \"description\": \"\"\n      }\n    },\n    {\n      \"column\": \"BloodPressure\",\n      \"properties\": {\n        \"dtype\": \"number\",\n        \"std\": 19,\n        \"min\": 0,\n        \"max\": 122,\n        \"num_unique_values\": 47,\n        \"samples\": [\n          86,\n          46,\n          85\n        ],\n        \"semantic_type\": \"\",\n        \"description\": \"\"\n      }\n    },\n    {\n      \"column\": \"SkinThickness\",\n      \"properties\": {\n        \"dtype\": \"number\",\n        \"std\": 15,\n        \"min\": 0,\n        \"max\": 99,\n        \"num_unique_values\": 51,\n        \"samples\": [\n          7,\n          12,\n          48\n        ],\n        \"semantic_type\": \"\",\n        \"description\": \"\"\n      }\n    },\n    {\n      \"column\": \"Insulin\",\n      \"properties\": {\n        \"dtype\": \"number\",\n        \"std\": 115,\n        \"min\": 0,\n        \"max\": 846,\n        \"num_unique_values\": 186,\n        \"samples\": [\n          52,\n          41,\n          183\n        ],\n        \"semantic_type\": \"\",\n        \"description\": \"\"\n      }\n    },\n    {\n      \"column\": \"BMI\",\n      \"properties\": {\n        \"dtype\": \"number\",\n        \"std\": 7.8841603203754405,\n        \"min\": 0.0,\n        \"max\": 67.1,\n        \"num_unique_values\": 248,\n        \"samples\": [\n          19.9,\n          31.0,\n          38.1\n        ],\n        \"semantic_type\": \"\",\n        \"description\": \"\"\n      }\n    },\n    {\n      \"column\": \"DiabetesPedigreeFunction\",\n      \"properties\": {\n        \"dtype\": \"number\",\n        \"std\": 0.33132859501277484,\n        \"min\": 0.078,\n        \"max\": 2.42,\n        \"num_unique_values\": 517,\n        \"samples\": [\n          1.731,\n          0.426,\n          0.138\n        ],\n        \"semantic_type\": \"\",\n        \"description\": \"\"\n      }\n    },\n    {\n      \"column\": \"Age\",\n      \"properties\": {\n        \"dtype\": \"number\",\n        \"std\": 11,\n        \"min\": 21,\n        \"max\": 81,\n        \"num_unique_values\": 52,\n        \"samples\": [\n          60,\n          47,\n          72\n        ],\n        \"semantic_type\": \"\",\n        \"description\": \"\"\n      }\n    },\n    {\n      \"column\": \"Outcome\",\n      \"properties\": {\n        \"dtype\": \"number\",\n        \"std\": 0,\n        \"min\": 0,\n        \"max\": 1,\n        \"num_unique_values\": 2,\n        \"samples\": [\n          0,\n          1\n        ],\n        \"semantic_type\": \"\",\n        \"description\": \"\"\n      }\n    }\n  ]\n}"
            }
          },
          "metadata": {},
          "execution_count": 169
        }
      ],
      "source": [
        "diabetes = pd.read_csv(\"diabetes2.csv\")\n",
        "diabetes = diabetes.dropna()\n",
        "diabetes = diabetes.apply(lambda col: col.astype('category').cat.codes if col.dtypes == 'object' else col)\n",
        "\n",
        "diabetes.head()"
      ]
    },
    {
      "cell_type": "code",
      "execution_count": null,
      "metadata": {
        "id": "PWFf2ZxJDGJp"
      },
      "outputs": [],
      "source": [
        "X, y = diabetes.drop(columns=[\"Outcome\"]), diabetes[\"Outcome\"]\n",
        "\n",
        "class_distribution = y.value_counts(normalize=True) * 100\n",
        "print(class_distribution)\n",
        "\n",
        "datafit(X, y, \"GD\")"
      ]
    },
    {
      "cell_type": "markdown",
      "source": [
        "65.1-34.89% balance"
      ],
      "metadata": {
        "id": "GYPpt0lpfM2v"
      }
    },
    {
      "cell_type": "code",
      "execution_count": null,
      "metadata": {
        "colab": {
          "base_uri": "https://localhost:8080/"
        },
        "id": "KEGkgIowDXmP",
        "outputId": "d044aba4-933d-4f92-d87a-42fe604cfc02"
      },
      "outputs": [
        {
          "output_type": "stream",
          "name": "stdout",
          "text": [
            "Converged in 4 iterations.\n",
            "LR classification accuracy with Newton is: 0.8051948051948052\n"
          ]
        }
      ],
      "source": [
        "X, y = diabetes.drop(columns=[\"Outcome\"]), diabetes[\"Outcome\"]\n",
        "datafit(X, y, \"Newton\")"
      ]
    },
    {
      "cell_type": "markdown",
      "metadata": {
        "id": "sgZ6KKD1NCMs"
      },
      "source": [
        "# Dataset 5: Heart Disease"
      ]
    },
    {
      "cell_type": "code",
      "execution_count": null,
      "metadata": {
        "colab": {
          "base_uri": "https://localhost:8080/",
          "height": 206
        },
        "id": "XwauviGcNHfU",
        "outputId": "1f3f3724-1a55-4d6d-c596-c6a8b25aa7ba"
      },
      "outputs": [
        {
          "output_type": "execute_result",
          "data": {
            "text/plain": [
              "   male  age  currentSmoker  cigsPerDay  BPMeds  prevalentStroke  \\\n",
              "0     1   39              0         0.0     0.0                0   \n",
              "1     0   46              0         0.0     0.0                0   \n",
              "2     1   48              1        20.0     0.0                0   \n",
              "3     0   61              1        30.0     0.0                0   \n",
              "4     0   46              1        23.0     0.0                0   \n",
              "\n",
              "   prevalentHyp  diabetes  totChol  sysBP  diaBP    BMI  heartRate  glucose  \\\n",
              "0             0         0    195.0  106.0   70.0  26.97       80.0     77.0   \n",
              "1             0         0    250.0  121.0   81.0  28.73       95.0     76.0   \n",
              "2             0         0    245.0  127.5   80.0  25.34       75.0     70.0   \n",
              "3             1         0    225.0  150.0   95.0  28.58       65.0    103.0   \n",
              "4             0         0    285.0  130.0   84.0  23.10       85.0     85.0   \n",
              "\n",
              "   TenYearCHD  \n",
              "0           0  \n",
              "1           0  \n",
              "2           0  \n",
              "3           1  \n",
              "4           0  "
            ],
            "text/html": [
              "\n",
              "  <div id=\"df-fe87fc18-2fa3-4267-a7eb-40f98b6af277\" class=\"colab-df-container\">\n",
              "    <div>\n",
              "<style scoped>\n",
              "    .dataframe tbody tr th:only-of-type {\n",
              "        vertical-align: middle;\n",
              "    }\n",
              "\n",
              "    .dataframe tbody tr th {\n",
              "        vertical-align: top;\n",
              "    }\n",
              "\n",
              "    .dataframe thead th {\n",
              "        text-align: right;\n",
              "    }\n",
              "</style>\n",
              "<table border=\"1\" class=\"dataframe\">\n",
              "  <thead>\n",
              "    <tr style=\"text-align: right;\">\n",
              "      <th></th>\n",
              "      <th>male</th>\n",
              "      <th>age</th>\n",
              "      <th>currentSmoker</th>\n",
              "      <th>cigsPerDay</th>\n",
              "      <th>BPMeds</th>\n",
              "      <th>prevalentStroke</th>\n",
              "      <th>prevalentHyp</th>\n",
              "      <th>diabetes</th>\n",
              "      <th>totChol</th>\n",
              "      <th>sysBP</th>\n",
              "      <th>diaBP</th>\n",
              "      <th>BMI</th>\n",
              "      <th>heartRate</th>\n",
              "      <th>glucose</th>\n",
              "      <th>TenYearCHD</th>\n",
              "    </tr>\n",
              "  </thead>\n",
              "  <tbody>\n",
              "    <tr>\n",
              "      <th>0</th>\n",
              "      <td>1</td>\n",
              "      <td>39</td>\n",
              "      <td>0</td>\n",
              "      <td>0.0</td>\n",
              "      <td>0.0</td>\n",
              "      <td>0</td>\n",
              "      <td>0</td>\n",
              "      <td>0</td>\n",
              "      <td>195.0</td>\n",
              "      <td>106.0</td>\n",
              "      <td>70.0</td>\n",
              "      <td>26.97</td>\n",
              "      <td>80.0</td>\n",
              "      <td>77.0</td>\n",
              "      <td>0</td>\n",
              "    </tr>\n",
              "    <tr>\n",
              "      <th>1</th>\n",
              "      <td>0</td>\n",
              "      <td>46</td>\n",
              "      <td>0</td>\n",
              "      <td>0.0</td>\n",
              "      <td>0.0</td>\n",
              "      <td>0</td>\n",
              "      <td>0</td>\n",
              "      <td>0</td>\n",
              "      <td>250.0</td>\n",
              "      <td>121.0</td>\n",
              "      <td>81.0</td>\n",
              "      <td>28.73</td>\n",
              "      <td>95.0</td>\n",
              "      <td>76.0</td>\n",
              "      <td>0</td>\n",
              "    </tr>\n",
              "    <tr>\n",
              "      <th>2</th>\n",
              "      <td>1</td>\n",
              "      <td>48</td>\n",
              "      <td>1</td>\n",
              "      <td>20.0</td>\n",
              "      <td>0.0</td>\n",
              "      <td>0</td>\n",
              "      <td>0</td>\n",
              "      <td>0</td>\n",
              "      <td>245.0</td>\n",
              "      <td>127.5</td>\n",
              "      <td>80.0</td>\n",
              "      <td>25.34</td>\n",
              "      <td>75.0</td>\n",
              "      <td>70.0</td>\n",
              "      <td>0</td>\n",
              "    </tr>\n",
              "    <tr>\n",
              "      <th>3</th>\n",
              "      <td>0</td>\n",
              "      <td>61</td>\n",
              "      <td>1</td>\n",
              "      <td>30.0</td>\n",
              "      <td>0.0</td>\n",
              "      <td>0</td>\n",
              "      <td>1</td>\n",
              "      <td>0</td>\n",
              "      <td>225.0</td>\n",
              "      <td>150.0</td>\n",
              "      <td>95.0</td>\n",
              "      <td>28.58</td>\n",
              "      <td>65.0</td>\n",
              "      <td>103.0</td>\n",
              "      <td>1</td>\n",
              "    </tr>\n",
              "    <tr>\n",
              "      <th>4</th>\n",
              "      <td>0</td>\n",
              "      <td>46</td>\n",
              "      <td>1</td>\n",
              "      <td>23.0</td>\n",
              "      <td>0.0</td>\n",
              "      <td>0</td>\n",
              "      <td>0</td>\n",
              "      <td>0</td>\n",
              "      <td>285.0</td>\n",
              "      <td>130.0</td>\n",
              "      <td>84.0</td>\n",
              "      <td>23.10</td>\n",
              "      <td>85.0</td>\n",
              "      <td>85.0</td>\n",
              "      <td>0</td>\n",
              "    </tr>\n",
              "  </tbody>\n",
              "</table>\n",
              "</div>\n",
              "    <div class=\"colab-df-buttons\">\n",
              "\n",
              "  <div class=\"colab-df-container\">\n",
              "    <button class=\"colab-df-convert\" onclick=\"convertToInteractive('df-fe87fc18-2fa3-4267-a7eb-40f98b6af277')\"\n",
              "            title=\"Convert this dataframe to an interactive table.\"\n",
              "            style=\"display:none;\">\n",
              "\n",
              "  <svg xmlns=\"http://www.w3.org/2000/svg\" height=\"24px\" viewBox=\"0 -960 960 960\">\n",
              "    <path d=\"M120-120v-720h720v720H120Zm60-500h600v-160H180v160Zm220 220h160v-160H400v160Zm0 220h160v-160H400v160ZM180-400h160v-160H180v160Zm440 0h160v-160H620v160ZM180-180h160v-160H180v160Zm440 0h160v-160H620v160Z\"/>\n",
              "  </svg>\n",
              "    </button>\n",
              "\n",
              "  <style>\n",
              "    .colab-df-container {\n",
              "      display:flex;\n",
              "      gap: 12px;\n",
              "    }\n",
              "\n",
              "    .colab-df-convert {\n",
              "      background-color: #E8F0FE;\n",
              "      border: none;\n",
              "      border-radius: 50%;\n",
              "      cursor: pointer;\n",
              "      display: none;\n",
              "      fill: #1967D2;\n",
              "      height: 32px;\n",
              "      padding: 0 0 0 0;\n",
              "      width: 32px;\n",
              "    }\n",
              "\n",
              "    .colab-df-convert:hover {\n",
              "      background-color: #E2EBFA;\n",
              "      box-shadow: 0px 1px 2px rgba(60, 64, 67, 0.3), 0px 1px 3px 1px rgba(60, 64, 67, 0.15);\n",
              "      fill: #174EA6;\n",
              "    }\n",
              "\n",
              "    .colab-df-buttons div {\n",
              "      margin-bottom: 4px;\n",
              "    }\n",
              "\n",
              "    [theme=dark] .colab-df-convert {\n",
              "      background-color: #3B4455;\n",
              "      fill: #D2E3FC;\n",
              "    }\n",
              "\n",
              "    [theme=dark] .colab-df-convert:hover {\n",
              "      background-color: #434B5C;\n",
              "      box-shadow: 0px 1px 3px 1px rgba(0, 0, 0, 0.15);\n",
              "      filter: drop-shadow(0px 1px 2px rgba(0, 0, 0, 0.3));\n",
              "      fill: #FFFFFF;\n",
              "    }\n",
              "  </style>\n",
              "\n",
              "    <script>\n",
              "      const buttonEl =\n",
              "        document.querySelector('#df-fe87fc18-2fa3-4267-a7eb-40f98b6af277 button.colab-df-convert');\n",
              "      buttonEl.style.display =\n",
              "        google.colab.kernel.accessAllowed ? 'block' : 'none';\n",
              "\n",
              "      async function convertToInteractive(key) {\n",
              "        const element = document.querySelector('#df-fe87fc18-2fa3-4267-a7eb-40f98b6af277');\n",
              "        const dataTable =\n",
              "          await google.colab.kernel.invokeFunction('convertToInteractive',\n",
              "                                                    [key], {});\n",
              "        if (!dataTable) return;\n",
              "\n",
              "        const docLinkHtml = 'Like what you see? Visit the ' +\n",
              "          '<a target=\"_blank\" href=https://colab.research.google.com/notebooks/data_table.ipynb>data table notebook</a>'\n",
              "          + ' to learn more about interactive tables.';\n",
              "        element.innerHTML = '';\n",
              "        dataTable['output_type'] = 'display_data';\n",
              "        await google.colab.output.renderOutput(dataTable, element);\n",
              "        const docLink = document.createElement('div');\n",
              "        docLink.innerHTML = docLinkHtml;\n",
              "        element.appendChild(docLink);\n",
              "      }\n",
              "    </script>\n",
              "  </div>\n",
              "\n",
              "\n",
              "    <div id=\"df-ff8b8120-597e-4a0e-8f95-9c9a60e15620\">\n",
              "      <button class=\"colab-df-quickchart\" onclick=\"quickchart('df-ff8b8120-597e-4a0e-8f95-9c9a60e15620')\"\n",
              "                title=\"Suggest charts\"\n",
              "                style=\"display:none;\">\n",
              "\n",
              "<svg xmlns=\"http://www.w3.org/2000/svg\" height=\"24px\"viewBox=\"0 0 24 24\"\n",
              "     width=\"24px\">\n",
              "    <g>\n",
              "        <path d=\"M19 3H5c-1.1 0-2 .9-2 2v14c0 1.1.9 2 2 2h14c1.1 0 2-.9 2-2V5c0-1.1-.9-2-2-2zM9 17H7v-7h2v7zm4 0h-2V7h2v10zm4 0h-2v-4h2v4z\"/>\n",
              "    </g>\n",
              "</svg>\n",
              "      </button>\n",
              "\n",
              "<style>\n",
              "  .colab-df-quickchart {\n",
              "      --bg-color: #E8F0FE;\n",
              "      --fill-color: #1967D2;\n",
              "      --hover-bg-color: #E2EBFA;\n",
              "      --hover-fill-color: #174EA6;\n",
              "      --disabled-fill-color: #AAA;\n",
              "      --disabled-bg-color: #DDD;\n",
              "  }\n",
              "\n",
              "  [theme=dark] .colab-df-quickchart {\n",
              "      --bg-color: #3B4455;\n",
              "      --fill-color: #D2E3FC;\n",
              "      --hover-bg-color: #434B5C;\n",
              "      --hover-fill-color: #FFFFFF;\n",
              "      --disabled-bg-color: #3B4455;\n",
              "      --disabled-fill-color: #666;\n",
              "  }\n",
              "\n",
              "  .colab-df-quickchart {\n",
              "    background-color: var(--bg-color);\n",
              "    border: none;\n",
              "    border-radius: 50%;\n",
              "    cursor: pointer;\n",
              "    display: none;\n",
              "    fill: var(--fill-color);\n",
              "    height: 32px;\n",
              "    padding: 0;\n",
              "    width: 32px;\n",
              "  }\n",
              "\n",
              "  .colab-df-quickchart:hover {\n",
              "    background-color: var(--hover-bg-color);\n",
              "    box-shadow: 0 1px 2px rgba(60, 64, 67, 0.3), 0 1px 3px 1px rgba(60, 64, 67, 0.15);\n",
              "    fill: var(--button-hover-fill-color);\n",
              "  }\n",
              "\n",
              "  .colab-df-quickchart-complete:disabled,\n",
              "  .colab-df-quickchart-complete:disabled:hover {\n",
              "    background-color: var(--disabled-bg-color);\n",
              "    fill: var(--disabled-fill-color);\n",
              "    box-shadow: none;\n",
              "  }\n",
              "\n",
              "  .colab-df-spinner {\n",
              "    border: 2px solid var(--fill-color);\n",
              "    border-color: transparent;\n",
              "    border-bottom-color: var(--fill-color);\n",
              "    animation:\n",
              "      spin 1s steps(1) infinite;\n",
              "  }\n",
              "\n",
              "  @keyframes spin {\n",
              "    0% {\n",
              "      border-color: transparent;\n",
              "      border-bottom-color: var(--fill-color);\n",
              "      border-left-color: var(--fill-color);\n",
              "    }\n",
              "    20% {\n",
              "      border-color: transparent;\n",
              "      border-left-color: var(--fill-color);\n",
              "      border-top-color: var(--fill-color);\n",
              "    }\n",
              "    30% {\n",
              "      border-color: transparent;\n",
              "      border-left-color: var(--fill-color);\n",
              "      border-top-color: var(--fill-color);\n",
              "      border-right-color: var(--fill-color);\n",
              "    }\n",
              "    40% {\n",
              "      border-color: transparent;\n",
              "      border-right-color: var(--fill-color);\n",
              "      border-top-color: var(--fill-color);\n",
              "    }\n",
              "    60% {\n",
              "      border-color: transparent;\n",
              "      border-right-color: var(--fill-color);\n",
              "    }\n",
              "    80% {\n",
              "      border-color: transparent;\n",
              "      border-right-color: var(--fill-color);\n",
              "      border-bottom-color: var(--fill-color);\n",
              "    }\n",
              "    90% {\n",
              "      border-color: transparent;\n",
              "      border-bottom-color: var(--fill-color);\n",
              "    }\n",
              "  }\n",
              "</style>\n",
              "\n",
              "      <script>\n",
              "        async function quickchart(key) {\n",
              "          const quickchartButtonEl =\n",
              "            document.querySelector('#' + key + ' button');\n",
              "          quickchartButtonEl.disabled = true;  // To prevent multiple clicks.\n",
              "          quickchartButtonEl.classList.add('colab-df-spinner');\n",
              "          try {\n",
              "            const charts = await google.colab.kernel.invokeFunction(\n",
              "                'suggestCharts', [key], {});\n",
              "          } catch (error) {\n",
              "            console.error('Error during call to suggestCharts:', error);\n",
              "          }\n",
              "          quickchartButtonEl.classList.remove('colab-df-spinner');\n",
              "          quickchartButtonEl.classList.add('colab-df-quickchart-complete');\n",
              "        }\n",
              "        (() => {\n",
              "          let quickchartButtonEl =\n",
              "            document.querySelector('#df-ff8b8120-597e-4a0e-8f95-9c9a60e15620 button');\n",
              "          quickchartButtonEl.style.display =\n",
              "            google.colab.kernel.accessAllowed ? 'block' : 'none';\n",
              "        })();\n",
              "      </script>\n",
              "    </div>\n",
              "\n",
              "    </div>\n",
              "  </div>\n"
            ],
            "application/vnd.google.colaboratory.intrinsic+json": {
              "type": "dataframe",
              "variable_name": "heart",
              "summary": "{\n  \"name\": \"heart\",\n  \"rows\": 3656,\n  \"fields\": [\n    {\n      \"column\": \"male\",\n      \"properties\": {\n        \"dtype\": \"number\",\n        \"std\": 0,\n        \"min\": 0,\n        \"max\": 1,\n        \"num_unique_values\": 2,\n        \"samples\": [\n          0,\n          1\n        ],\n        \"semantic_type\": \"\",\n        \"description\": \"\"\n      }\n    },\n    {\n      \"column\": \"age\",\n      \"properties\": {\n        \"dtype\": \"number\",\n        \"std\": 8,\n        \"min\": 32,\n        \"max\": 70,\n        \"num_unique_values\": 39,\n        \"samples\": [\n          68,\n          32\n        ],\n        \"semantic_type\": \"\",\n        \"description\": \"\"\n      }\n    },\n    {\n      \"column\": \"currentSmoker\",\n      \"properties\": {\n        \"dtype\": \"number\",\n        \"std\": 0,\n        \"min\": 0,\n        \"max\": 1,\n        \"num_unique_values\": 2,\n        \"samples\": [\n          1,\n          0\n        ],\n        \"semantic_type\": \"\",\n        \"description\": \"\"\n      }\n    },\n    {\n      \"column\": \"cigsPerDay\",\n      \"properties\": {\n        \"dtype\": \"number\",\n        \"std\": 11.918868525423367,\n        \"min\": 0.0,\n        \"max\": 70.0,\n        \"num_unique_values\": 33,\n        \"samples\": [\n          70.0,\n          4.0\n        ],\n        \"semantic_type\": \"\",\n        \"description\": \"\"\n      }\n    },\n    {\n      \"column\": \"BPMeds\",\n      \"properties\": {\n        \"dtype\": \"number\",\n        \"std\": 0.17160218957652876,\n        \"min\": 0.0,\n        \"max\": 1.0,\n        \"num_unique_values\": 2,\n        \"samples\": [\n          1.0,\n          0.0\n        ],\n        \"semantic_type\": \"\",\n        \"description\": \"\"\n      }\n    },\n    {\n      \"column\": \"prevalentStroke\",\n      \"properties\": {\n        \"dtype\": \"number\",\n        \"std\": 0,\n        \"min\": 0,\n        \"max\": 1,\n        \"num_unique_values\": 2,\n        \"samples\": [\n          1,\n          0\n        ],\n        \"semantic_type\": \"\",\n        \"description\": \"\"\n      }\n    },\n    {\n      \"column\": \"prevalentHyp\",\n      \"properties\": {\n        \"dtype\": \"number\",\n        \"std\": 0,\n        \"min\": 0,\n        \"max\": 1,\n        \"num_unique_values\": 2,\n        \"samples\": [\n          1,\n          0\n        ],\n        \"semantic_type\": \"\",\n        \"description\": \"\"\n      }\n    },\n    {\n      \"column\": \"diabetes\",\n      \"properties\": {\n        \"dtype\": \"number\",\n        \"std\": 0,\n        \"min\": 0,\n        \"max\": 1,\n        \"num_unique_values\": 2,\n        \"samples\": [\n          1,\n          0\n        ],\n        \"semantic_type\": \"\",\n        \"description\": \"\"\n      }\n    },\n    {\n      \"column\": \"totChol\",\n      \"properties\": {\n        \"dtype\": \"number\",\n        \"std\": 44.09622332488071,\n        \"min\": 113.0,\n        \"max\": 600.0,\n        \"num_unique_values\": 241,\n        \"samples\": [\n          214.0,\n          205.0\n        ],\n        \"semantic_type\": \"\",\n        \"description\": \"\"\n      }\n    },\n    {\n      \"column\": \"sysBP\",\n      \"properties\": {\n        \"dtype\": \"number\",\n        \"std\": 22.09244395555472,\n        \"min\": 83.5,\n        \"max\": 295.0,\n        \"num_unique_values\": 231,\n        \"samples\": [\n          199.5,\n          105.0\n        ],\n        \"semantic_type\": \"\",\n        \"description\": \"\"\n      }\n    },\n    {\n      \"column\": \"diaBP\",\n      \"properties\": {\n        \"dtype\": \"number\",\n        \"std\": 11.974825143730596,\n        \"min\": 48.0,\n        \"max\": 142.5,\n        \"num_unique_values\": 142,\n        \"samples\": [\n          110.5,\n          121.0\n        ],\n        \"semantic_type\": \"\",\n        \"description\": \"\"\n      }\n    },\n    {\n      \"column\": \"BMI\",\n      \"properties\": {\n        \"dtype\": \"number\",\n        \"std\": 4.06591266413103,\n        \"min\": 15.54,\n        \"max\": 56.8,\n        \"num_unique_values\": 1297,\n        \"samples\": [\n          25.46,\n          19.82\n        ],\n        \"semantic_type\": \"\",\n        \"description\": \"\"\n      }\n    },\n    {\n      \"column\": \"heartRate\",\n      \"properties\": {\n        \"dtype\": \"number\",\n        \"std\": 11.982952108022786,\n        \"min\": 44.0,\n        \"max\": 143.0,\n        \"num_unique_values\": 72,\n        \"samples\": [\n          85.0,\n          45.0\n        ],\n        \"semantic_type\": \"\",\n        \"description\": \"\"\n      }\n    },\n    {\n      \"column\": \"glucose\",\n      \"properties\": {\n        \"dtype\": \"number\",\n        \"std\": 23.9101276858301,\n        \"min\": 40.0,\n        \"max\": 394.0,\n        \"num_unique_values\": 138,\n        \"samples\": [\n          111.0,\n          43.0\n        ],\n        \"semantic_type\": \"\",\n        \"description\": \"\"\n      }\n    },\n    {\n      \"column\": \"TenYearCHD\",\n      \"properties\": {\n        \"dtype\": \"number\",\n        \"std\": 0,\n        \"min\": 0,\n        \"max\": 1,\n        \"num_unique_values\": 2,\n        \"samples\": [\n          1,\n          0\n        ],\n        \"semantic_type\": \"\",\n        \"description\": \"\"\n      }\n    }\n  ]\n}"
            }
          },
          "metadata": {},
          "execution_count": 175
        }
      ],
      "source": [
        "heart = pd.read_csv(\"heart_disease.csv\")\n",
        "heart = heart.dropna()\n",
        "heart = heart.drop(columns = [\"education\"])\n",
        "heart = heart.apply(lambda col: col.astype('category').cat.codes if col.dtypes == 'object' else col)\n",
        "\n",
        "heart.head()"
      ]
    },
    {
      "cell_type": "code",
      "execution_count": null,
      "metadata": {
        "colab": {
          "base_uri": "https://localhost:8080/"
        },
        "id": "37J-bYuSNLUV",
        "outputId": "8452032f-7e61-474e-939b-35b65fbec426"
      },
      "outputs": [
        {
          "output_type": "stream",
          "name": "stdout",
          "text": [
            "Converged in 94 iterations.\n",
            "LR classification accuracy with GD is: 0.8620218579234973\n"
          ]
        }
      ],
      "source": [
        "X, y = heart.drop(columns=[\"TenYearCHD\"]), heart[\"TenYearCHD\"]\n",
        "\n",
        "class_distribution = y.value_counts(normalize=True) * 100\n",
        "print(class_distribution)\n",
        "\n",
        "datafit(X, y, \"GD\")"
      ]
    },
    {
      "cell_type": "markdown",
      "source": [
        "Class balance: 84.76-15.23%"
      ],
      "metadata": {
        "id": "TwT2wSWTfFMX"
      }
    },
    {
      "cell_type": "code",
      "execution_count": null,
      "metadata": {
        "colab": {
          "base_uri": "https://localhost:8080/"
        },
        "id": "li-wn5bZNyrr",
        "outputId": "e3ed1038-0e5d-4b44-d17a-72195f5b0cfc"
      },
      "outputs": [
        {
          "output_type": "stream",
          "name": "stdout",
          "text": [
            "Converged in 4 iterations.\n",
            "LR classification accuracy with Newton is: 0.8469945355191257\n"
          ]
        }
      ],
      "source": [
        "X, y = heart.drop(columns=[\"TenYearCHD\"]), heart[\"TenYearCHD\"]\n",
        "\n",
        "datafit(X, y, \"Newton\")"
      ]
    },
    {
      "cell_type": "markdown",
      "metadata": {
        "id": "gXg0V6m-N5h_"
      },
      "source": [
        "# Dataset 6: Loan Approval"
      ]
    },
    {
      "cell_type": "code",
      "execution_count": null,
      "metadata": {
        "colab": {
          "base_uri": "https://localhost:8080/",
          "height": 226
        },
        "id": "6rO4ogq3N-Dw",
        "outputId": "10a7fdfa-b442-46c8-9b2c-b7cb6f2638e1"
      },
      "outputs": [
        {
          "output_type": "execute_result",
          "data": {
            "text/plain": [
              "   person_age  person_gender  person_education  person_income  person_emp_exp  \\\n",
              "0        22.0              0                 4        71948.0               0   \n",
              "1        21.0              0                 3        12282.0               0   \n",
              "2        25.0              0                 3        12438.0               3   \n",
              "3        23.0              0                 1        79753.0               0   \n",
              "4        24.0              1                 4        66135.0               1   \n",
              "\n",
              "   person_home_ownership  loan_amnt  loan_intent  loan_int_rate  \\\n",
              "0                      3    35000.0            4          16.02   \n",
              "1                      2     1000.0            1          11.14   \n",
              "2                      0     5500.0            3          12.87   \n",
              "3                      3    35000.0            3          15.23   \n",
              "4                      3    35000.0            3          14.27   \n",
              "\n",
              "   loan_percent_income  cb_person_cred_hist_length  credit_score  \\\n",
              "0                 0.49                         3.0           561   \n",
              "1                 0.08                         2.0           504   \n",
              "2                 0.44                         3.0           635   \n",
              "3                 0.44                         2.0           675   \n",
              "4                 0.53                         4.0           586   \n",
              "\n",
              "   previous_loan_defaults_on_file  loan_status  \n",
              "0                               0            1  \n",
              "1                               1            0  \n",
              "2                               0            1  \n",
              "3                               0            1  \n",
              "4                               0            1  "
            ],
            "text/html": [
              "\n",
              "  <div id=\"df-42b04b14-573a-487a-b11b-60b2cdbcdba9\" class=\"colab-df-container\">\n",
              "    <div>\n",
              "<style scoped>\n",
              "    .dataframe tbody tr th:only-of-type {\n",
              "        vertical-align: middle;\n",
              "    }\n",
              "\n",
              "    .dataframe tbody tr th {\n",
              "        vertical-align: top;\n",
              "    }\n",
              "\n",
              "    .dataframe thead th {\n",
              "        text-align: right;\n",
              "    }\n",
              "</style>\n",
              "<table border=\"1\" class=\"dataframe\">\n",
              "  <thead>\n",
              "    <tr style=\"text-align: right;\">\n",
              "      <th></th>\n",
              "      <th>person_age</th>\n",
              "      <th>person_gender</th>\n",
              "      <th>person_education</th>\n",
              "      <th>person_income</th>\n",
              "      <th>person_emp_exp</th>\n",
              "      <th>person_home_ownership</th>\n",
              "      <th>loan_amnt</th>\n",
              "      <th>loan_intent</th>\n",
              "      <th>loan_int_rate</th>\n",
              "      <th>loan_percent_income</th>\n",
              "      <th>cb_person_cred_hist_length</th>\n",
              "      <th>credit_score</th>\n",
              "      <th>previous_loan_defaults_on_file</th>\n",
              "      <th>loan_status</th>\n",
              "    </tr>\n",
              "  </thead>\n",
              "  <tbody>\n",
              "    <tr>\n",
              "      <th>0</th>\n",
              "      <td>22.0</td>\n",
              "      <td>0</td>\n",
              "      <td>4</td>\n",
              "      <td>71948.0</td>\n",
              "      <td>0</td>\n",
              "      <td>3</td>\n",
              "      <td>35000.0</td>\n",
              "      <td>4</td>\n",
              "      <td>16.02</td>\n",
              "      <td>0.49</td>\n",
              "      <td>3.0</td>\n",
              "      <td>561</td>\n",
              "      <td>0</td>\n",
              "      <td>1</td>\n",
              "    </tr>\n",
              "    <tr>\n",
              "      <th>1</th>\n",
              "      <td>21.0</td>\n",
              "      <td>0</td>\n",
              "      <td>3</td>\n",
              "      <td>12282.0</td>\n",
              "      <td>0</td>\n",
              "      <td>2</td>\n",
              "      <td>1000.0</td>\n",
              "      <td>1</td>\n",
              "      <td>11.14</td>\n",
              "      <td>0.08</td>\n",
              "      <td>2.0</td>\n",
              "      <td>504</td>\n",
              "      <td>1</td>\n",
              "      <td>0</td>\n",
              "    </tr>\n",
              "    <tr>\n",
              "      <th>2</th>\n",
              "      <td>25.0</td>\n",
              "      <td>0</td>\n",
              "      <td>3</td>\n",
              "      <td>12438.0</td>\n",
              "      <td>3</td>\n",
              "      <td>0</td>\n",
              "      <td>5500.0</td>\n",
              "      <td>3</td>\n",
              "      <td>12.87</td>\n",
              "      <td>0.44</td>\n",
              "      <td>3.0</td>\n",
              "      <td>635</td>\n",
              "      <td>0</td>\n",
              "      <td>1</td>\n",
              "    </tr>\n",
              "    <tr>\n",
              "      <th>3</th>\n",
              "      <td>23.0</td>\n",
              "      <td>0</td>\n",
              "      <td>1</td>\n",
              "      <td>79753.0</td>\n",
              "      <td>0</td>\n",
              "      <td>3</td>\n",
              "      <td>35000.0</td>\n",
              "      <td>3</td>\n",
              "      <td>15.23</td>\n",
              "      <td>0.44</td>\n",
              "      <td>2.0</td>\n",
              "      <td>675</td>\n",
              "      <td>0</td>\n",
              "      <td>1</td>\n",
              "    </tr>\n",
              "    <tr>\n",
              "      <th>4</th>\n",
              "      <td>24.0</td>\n",
              "      <td>1</td>\n",
              "      <td>4</td>\n",
              "      <td>66135.0</td>\n",
              "      <td>1</td>\n",
              "      <td>3</td>\n",
              "      <td>35000.0</td>\n",
              "      <td>3</td>\n",
              "      <td>14.27</td>\n",
              "      <td>0.53</td>\n",
              "      <td>4.0</td>\n",
              "      <td>586</td>\n",
              "      <td>0</td>\n",
              "      <td>1</td>\n",
              "    </tr>\n",
              "  </tbody>\n",
              "</table>\n",
              "</div>\n",
              "    <div class=\"colab-df-buttons\">\n",
              "\n",
              "  <div class=\"colab-df-container\">\n",
              "    <button class=\"colab-df-convert\" onclick=\"convertToInteractive('df-42b04b14-573a-487a-b11b-60b2cdbcdba9')\"\n",
              "            title=\"Convert this dataframe to an interactive table.\"\n",
              "            style=\"display:none;\">\n",
              "\n",
              "  <svg xmlns=\"http://www.w3.org/2000/svg\" height=\"24px\" viewBox=\"0 -960 960 960\">\n",
              "    <path d=\"M120-120v-720h720v720H120Zm60-500h600v-160H180v160Zm220 220h160v-160H400v160Zm0 220h160v-160H400v160ZM180-400h160v-160H180v160Zm440 0h160v-160H620v160ZM180-180h160v-160H180v160Zm440 0h160v-160H620v160Z\"/>\n",
              "  </svg>\n",
              "    </button>\n",
              "\n",
              "  <style>\n",
              "    .colab-df-container {\n",
              "      display:flex;\n",
              "      gap: 12px;\n",
              "    }\n",
              "\n",
              "    .colab-df-convert {\n",
              "      background-color: #E8F0FE;\n",
              "      border: none;\n",
              "      border-radius: 50%;\n",
              "      cursor: pointer;\n",
              "      display: none;\n",
              "      fill: #1967D2;\n",
              "      height: 32px;\n",
              "      padding: 0 0 0 0;\n",
              "      width: 32px;\n",
              "    }\n",
              "\n",
              "    .colab-df-convert:hover {\n",
              "      background-color: #E2EBFA;\n",
              "      box-shadow: 0px 1px 2px rgba(60, 64, 67, 0.3), 0px 1px 3px 1px rgba(60, 64, 67, 0.15);\n",
              "      fill: #174EA6;\n",
              "    }\n",
              "\n",
              "    .colab-df-buttons div {\n",
              "      margin-bottom: 4px;\n",
              "    }\n",
              "\n",
              "    [theme=dark] .colab-df-convert {\n",
              "      background-color: #3B4455;\n",
              "      fill: #D2E3FC;\n",
              "    }\n",
              "\n",
              "    [theme=dark] .colab-df-convert:hover {\n",
              "      background-color: #434B5C;\n",
              "      box-shadow: 0px 1px 3px 1px rgba(0, 0, 0, 0.15);\n",
              "      filter: drop-shadow(0px 1px 2px rgba(0, 0, 0, 0.3));\n",
              "      fill: #FFFFFF;\n",
              "    }\n",
              "  </style>\n",
              "\n",
              "    <script>\n",
              "      const buttonEl =\n",
              "        document.querySelector('#df-42b04b14-573a-487a-b11b-60b2cdbcdba9 button.colab-df-convert');\n",
              "      buttonEl.style.display =\n",
              "        google.colab.kernel.accessAllowed ? 'block' : 'none';\n",
              "\n",
              "      async function convertToInteractive(key) {\n",
              "        const element = document.querySelector('#df-42b04b14-573a-487a-b11b-60b2cdbcdba9');\n",
              "        const dataTable =\n",
              "          await google.colab.kernel.invokeFunction('convertToInteractive',\n",
              "                                                    [key], {});\n",
              "        if (!dataTable) return;\n",
              "\n",
              "        const docLinkHtml = 'Like what you see? Visit the ' +\n",
              "          '<a target=\"_blank\" href=https://colab.research.google.com/notebooks/data_table.ipynb>data table notebook</a>'\n",
              "          + ' to learn more about interactive tables.';\n",
              "        element.innerHTML = '';\n",
              "        dataTable['output_type'] = 'display_data';\n",
              "        await google.colab.output.renderOutput(dataTable, element);\n",
              "        const docLink = document.createElement('div');\n",
              "        docLink.innerHTML = docLinkHtml;\n",
              "        element.appendChild(docLink);\n",
              "      }\n",
              "    </script>\n",
              "  </div>\n",
              "\n",
              "\n",
              "    <div id=\"df-fc5cb65e-0292-491d-a61e-5a0b686fb019\">\n",
              "      <button class=\"colab-df-quickchart\" onclick=\"quickchart('df-fc5cb65e-0292-491d-a61e-5a0b686fb019')\"\n",
              "                title=\"Suggest charts\"\n",
              "                style=\"display:none;\">\n",
              "\n",
              "<svg xmlns=\"http://www.w3.org/2000/svg\" height=\"24px\"viewBox=\"0 0 24 24\"\n",
              "     width=\"24px\">\n",
              "    <g>\n",
              "        <path d=\"M19 3H5c-1.1 0-2 .9-2 2v14c0 1.1.9 2 2 2h14c1.1 0 2-.9 2-2V5c0-1.1-.9-2-2-2zM9 17H7v-7h2v7zm4 0h-2V7h2v10zm4 0h-2v-4h2v4z\"/>\n",
              "    </g>\n",
              "</svg>\n",
              "      </button>\n",
              "\n",
              "<style>\n",
              "  .colab-df-quickchart {\n",
              "      --bg-color: #E8F0FE;\n",
              "      --fill-color: #1967D2;\n",
              "      --hover-bg-color: #E2EBFA;\n",
              "      --hover-fill-color: #174EA6;\n",
              "      --disabled-fill-color: #AAA;\n",
              "      --disabled-bg-color: #DDD;\n",
              "  }\n",
              "\n",
              "  [theme=dark] .colab-df-quickchart {\n",
              "      --bg-color: #3B4455;\n",
              "      --fill-color: #D2E3FC;\n",
              "      --hover-bg-color: #434B5C;\n",
              "      --hover-fill-color: #FFFFFF;\n",
              "      --disabled-bg-color: #3B4455;\n",
              "      --disabled-fill-color: #666;\n",
              "  }\n",
              "\n",
              "  .colab-df-quickchart {\n",
              "    background-color: var(--bg-color);\n",
              "    border: none;\n",
              "    border-radius: 50%;\n",
              "    cursor: pointer;\n",
              "    display: none;\n",
              "    fill: var(--fill-color);\n",
              "    height: 32px;\n",
              "    padding: 0;\n",
              "    width: 32px;\n",
              "  }\n",
              "\n",
              "  .colab-df-quickchart:hover {\n",
              "    background-color: var(--hover-bg-color);\n",
              "    box-shadow: 0 1px 2px rgba(60, 64, 67, 0.3), 0 1px 3px 1px rgba(60, 64, 67, 0.15);\n",
              "    fill: var(--button-hover-fill-color);\n",
              "  }\n",
              "\n",
              "  .colab-df-quickchart-complete:disabled,\n",
              "  .colab-df-quickchart-complete:disabled:hover {\n",
              "    background-color: var(--disabled-bg-color);\n",
              "    fill: var(--disabled-fill-color);\n",
              "    box-shadow: none;\n",
              "  }\n",
              "\n",
              "  .colab-df-spinner {\n",
              "    border: 2px solid var(--fill-color);\n",
              "    border-color: transparent;\n",
              "    border-bottom-color: var(--fill-color);\n",
              "    animation:\n",
              "      spin 1s steps(1) infinite;\n",
              "  }\n",
              "\n",
              "  @keyframes spin {\n",
              "    0% {\n",
              "      border-color: transparent;\n",
              "      border-bottom-color: var(--fill-color);\n",
              "      border-left-color: var(--fill-color);\n",
              "    }\n",
              "    20% {\n",
              "      border-color: transparent;\n",
              "      border-left-color: var(--fill-color);\n",
              "      border-top-color: var(--fill-color);\n",
              "    }\n",
              "    30% {\n",
              "      border-color: transparent;\n",
              "      border-left-color: var(--fill-color);\n",
              "      border-top-color: var(--fill-color);\n",
              "      border-right-color: var(--fill-color);\n",
              "    }\n",
              "    40% {\n",
              "      border-color: transparent;\n",
              "      border-right-color: var(--fill-color);\n",
              "      border-top-color: var(--fill-color);\n",
              "    }\n",
              "    60% {\n",
              "      border-color: transparent;\n",
              "      border-right-color: var(--fill-color);\n",
              "    }\n",
              "    80% {\n",
              "      border-color: transparent;\n",
              "      border-right-color: var(--fill-color);\n",
              "      border-bottom-color: var(--fill-color);\n",
              "    }\n",
              "    90% {\n",
              "      border-color: transparent;\n",
              "      border-bottom-color: var(--fill-color);\n",
              "    }\n",
              "  }\n",
              "</style>\n",
              "\n",
              "      <script>\n",
              "        async function quickchart(key) {\n",
              "          const quickchartButtonEl =\n",
              "            document.querySelector('#' + key + ' button');\n",
              "          quickchartButtonEl.disabled = true;  // To prevent multiple clicks.\n",
              "          quickchartButtonEl.classList.add('colab-df-spinner');\n",
              "          try {\n",
              "            const charts = await google.colab.kernel.invokeFunction(\n",
              "                'suggestCharts', [key], {});\n",
              "          } catch (error) {\n",
              "            console.error('Error during call to suggestCharts:', error);\n",
              "          }\n",
              "          quickchartButtonEl.classList.remove('colab-df-spinner');\n",
              "          quickchartButtonEl.classList.add('colab-df-quickchart-complete');\n",
              "        }\n",
              "        (() => {\n",
              "          let quickchartButtonEl =\n",
              "            document.querySelector('#df-fc5cb65e-0292-491d-a61e-5a0b686fb019 button');\n",
              "          quickchartButtonEl.style.display =\n",
              "            google.colab.kernel.accessAllowed ? 'block' : 'none';\n",
              "        })();\n",
              "      </script>\n",
              "    </div>\n",
              "\n",
              "    </div>\n",
              "  </div>\n"
            ],
            "application/vnd.google.colaboratory.intrinsic+json": {
              "type": "dataframe",
              "variable_name": "loan_approval",
              "summary": "{\n  \"name\": \"loan_approval\",\n  \"rows\": 45000,\n  \"fields\": [\n    {\n      \"column\": \"person_age\",\n      \"properties\": {\n        \"dtype\": \"number\",\n        \"std\": 6.045108211348622,\n        \"min\": 20.0,\n        \"max\": 144.0,\n        \"num_unique_values\": 60,\n        \"samples\": [\n          22.0,\n          26.0,\n          53.0\n        ],\n        \"semantic_type\": \"\",\n        \"description\": \"\"\n      }\n    },\n    {\n      \"column\": \"person_gender\",\n      \"properties\": {\n        \"dtype\": \"int8\",\n        \"num_unique_values\": 2,\n        \"samples\": [\n          1,\n          0\n        ],\n        \"semantic_type\": \"\",\n        \"description\": \"\"\n      }\n    },\n    {\n      \"column\": \"person_education\",\n      \"properties\": {\n        \"dtype\": \"int8\",\n        \"num_unique_values\": 5,\n        \"samples\": [\n          3,\n          2\n        ],\n        \"semantic_type\": \"\",\n        \"description\": \"\"\n      }\n    },\n    {\n      \"column\": \"person_income\",\n      \"properties\": {\n        \"dtype\": \"number\",\n        \"std\": 80422.49863189556,\n        \"min\": 8000.0,\n        \"max\": 7200766.0,\n        \"num_unique_values\": 33989,\n        \"samples\": [\n          48967.0,\n          31001.0\n        ],\n        \"semantic_type\": \"\",\n        \"description\": \"\"\n      }\n    },\n    {\n      \"column\": \"person_emp_exp\",\n      \"properties\": {\n        \"dtype\": \"number\",\n        \"std\": 6,\n        \"min\": 0,\n        \"max\": 125,\n        \"num_unique_values\": 63,\n        \"samples\": [\n          93,\n          76\n        ],\n        \"semantic_type\": \"\",\n        \"description\": \"\"\n      }\n    },\n    {\n      \"column\": \"person_home_ownership\",\n      \"properties\": {\n        \"dtype\": \"int8\",\n        \"num_unique_values\": 4,\n        \"samples\": [\n          2,\n          1\n        ],\n        \"semantic_type\": \"\",\n        \"description\": \"\"\n      }\n    },\n    {\n      \"column\": \"loan_amnt\",\n      \"properties\": {\n        \"dtype\": \"number\",\n        \"std\": 6314.8866905411405,\n        \"min\": 500.0,\n        \"max\": 35000.0,\n        \"num_unique_values\": 4483,\n        \"samples\": [\n          5800.0,\n          28338.0\n        ],\n        \"semantic_type\": \"\",\n        \"description\": \"\"\n      }\n    },\n    {\n      \"column\": \"loan_intent\",\n      \"properties\": {\n        \"dtype\": \"int8\",\n        \"num_unique_values\": 6,\n        \"samples\": [\n          4,\n          1\n        ],\n        \"semantic_type\": \"\",\n        \"description\": \"\"\n      }\n    },\n    {\n      \"column\": \"loan_int_rate\",\n      \"properties\": {\n        \"dtype\": \"number\",\n        \"std\": 2.9788082802254734,\n        \"min\": 5.42,\n        \"max\": 20.0,\n        \"num_unique_values\": 1302,\n        \"samples\": [\n          15.0,\n          13.45\n        ],\n        \"semantic_type\": \"\",\n        \"description\": \"\"\n      }\n    },\n    {\n      \"column\": \"loan_percent_income\",\n      \"properties\": {\n        \"dtype\": \"number\",\n        \"std\": 0.08721230801403355,\n        \"min\": 0.0,\n        \"max\": 0.66,\n        \"num_unique_values\": 64,\n        \"samples\": [\n          0.45,\n          0.54\n        ],\n        \"semantic_type\": \"\",\n        \"description\": \"\"\n      }\n    },\n    {\n      \"column\": \"cb_person_cred_hist_length\",\n      \"properties\": {\n        \"dtype\": \"number\",\n        \"std\": 3.8797018451620433,\n        \"min\": 2.0,\n        \"max\": 30.0,\n        \"num_unique_values\": 29,\n        \"samples\": [\n          24.0,\n          25.0\n        ],\n        \"semantic_type\": \"\",\n        \"description\": \"\"\n      }\n    },\n    {\n      \"column\": \"credit_score\",\n      \"properties\": {\n        \"dtype\": \"number\",\n        \"std\": 50,\n        \"min\": 390,\n        \"max\": 850,\n        \"num_unique_values\": 340,\n        \"samples\": [\n          492,\n          484\n        ],\n        \"semantic_type\": \"\",\n        \"description\": \"\"\n      }\n    },\n    {\n      \"column\": \"previous_loan_defaults_on_file\",\n      \"properties\": {\n        \"dtype\": \"int8\",\n        \"num_unique_values\": 2,\n        \"samples\": [\n          1,\n          0\n        ],\n        \"semantic_type\": \"\",\n        \"description\": \"\"\n      }\n    },\n    {\n      \"column\": \"loan_status\",\n      \"properties\": {\n        \"dtype\": \"number\",\n        \"std\": 0,\n        \"min\": 0,\n        \"max\": 1,\n        \"num_unique_values\": 2,\n        \"samples\": [\n          0,\n          1\n        ],\n        \"semantic_type\": \"\",\n        \"description\": \"\"\n      }\n    }\n  ]\n}"
            }
          },
          "metadata": {},
          "execution_count": 179
        }
      ],
      "source": [
        "loan_approval = pd.read_csv(\"loan_data.csv\")\n",
        "loan_approval = loan_approval.dropna()\n",
        "loan_approval = loan_approval.apply(lambda col: col.astype('category').cat.codes if col.dtypes == 'object' else col)\n",
        "\n",
        "loan_approval.head()"
      ]
    },
    {
      "cell_type": "code",
      "execution_count": null,
      "metadata": {
        "id": "qqABKhM2RGKS"
      },
      "outputs": [],
      "source": [
        "X, y = loan_approval.drop(columns=[\"loan_status\"]), loan_approval[\"loan_status\"]\n",
        "\n",
        "class_distribution = y.value_counts(normalize=True) * 100\n",
        "print(class_distribution)\n",
        "\n",
        "datafit(X, y, \"GD\")"
      ]
    },
    {
      "cell_type": "markdown",
      "source": [
        "This dataset has a 77.77-22.22 balance between classes"
      ],
      "metadata": {
        "id": "X6autRj-e7DP"
      }
    },
    {
      "cell_type": "code",
      "execution_count": null,
      "metadata": {
        "colab": {
          "base_uri": "https://localhost:8080/"
        },
        "id": "ilmMtQJcRG0g",
        "outputId": "810cc0d4-bfd0-4fad-bb84-0666bba4bec4"
      },
      "outputs": [
        {
          "output_type": "stream",
          "name": "stdout",
          "text": [
            "Converged in 4 iterations.\n",
            "LR classification accuracy with Newton is: 0.866\n"
          ]
        }
      ],
      "source": [
        "X, y = loan_approval.drop(columns=[\"loan_status\"]), loan_approval[\"loan_status\"]\n",
        "\n",
        "datafit(X, y, \"Newton\")"
      ]
    },
    {
      "cell_type": "markdown",
      "metadata": {
        "id": "U57SKsYC3I4k"
      },
      "source": [
        "# Dataset 7: Phishing websites"
      ]
    },
    {
      "cell_type": "code",
      "execution_count": null,
      "metadata": {
        "colab": {
          "base_uri": "https://localhost:8080/"
        },
        "collapsed": true,
        "id": "jmFr_tAm3Ib-",
        "outputId": "c554c90c-dd80-4dd2-d9dd-b72d37703dbe"
      },
      "outputs": [
        {
          "output_type": "stream",
          "name": "stdout",
          "text": [
            "11430 89\n"
          ]
        }
      ],
      "source": [
        "phishing = pd.read_csv(\"dataset_phishing1.csv\")\n",
        "\n",
        "#Map outcomes to 0's and 1's\n",
        "phishing['status'] = phishing['status'].replace({'legitimate': 1, 'phishing': 0})\n",
        "\n",
        "print(phishing.shape)"
      ]
    },
    {
      "cell_type": "code",
      "execution_count": null,
      "metadata": {
        "colab": {
          "base_uri": "https://localhost:8080/"
        },
        "id": "m8lGwpXO3qY-",
        "outputId": "78754a57-251b-4917-fbcf-71389bfa8f08"
      },
      "outputs": [
        {
          "output_type": "stream",
          "name": "stdout",
          "text": [
            "Converged in 99 iterations.\n",
            "LR classification accuracy with GD is: 0.9951881014873141\n"
          ]
        }
      ],
      "source": [
        "X, y = phishing.drop(columns=[\"status\"]), phishing[\"status\"]\n",
        "X, y = phishing.select_dtypes(include=np.number).values, phishing[\"status\"].values\n",
        "\n",
        "#Check for class balance\n",
        "unique, counts = np.unique(y, return_counts=True)\n",
        "print(dict(zip(unique, counts)))\n",
        "\n",
        "datafit(X, y, \"GD\")"
      ]
    },
    {
      "cell_type": "markdown",
      "source": [
        "This dataset is perfectly balanced, with 5715 positive and 5715 negative instances"
      ],
      "metadata": {
        "id": "BUYicOQweyAZ"
      }
    },
    {
      "cell_type": "code",
      "execution_count": null,
      "metadata": {
        "colab": {
          "base_uri": "https://localhost:8080/"
        },
        "id": "QH2rm_Cx7nVo",
        "outputId": "b67b1d4e-5bd7-4042-e893-dfed5750342f"
      },
      "outputs": [
        {
          "output_type": "stream",
          "name": "stdout",
          "text": [
            "Converged in 5 iterations.\n",
            "LR classification accuracy with Newton is: 0.9916885389326334\n"
          ]
        }
      ],
      "source": [
        "X, y = phishing.drop(columns=[\"status\"]), phishing[\"status\"]\n",
        "X, y = phishing.select_dtypes(include=np.number).values, phishing[\"status\"]\n",
        "\n",
        "datafit(X, y, \"Newton\")"
      ]
    },
    {
      "cell_type": "markdown",
      "metadata": {
        "id": "RVFG0gZukJ0q"
      },
      "source": [
        "# Plotting the results\n",
        "\n",
        "First we plot accuracy vs dataset amount of features for both methods"
      ]
    },
    {
      "cell_type": "code",
      "execution_count": null,
      "metadata": {
        "colab": {
          "base_uri": "https://localhost:8080/",
          "height": 487
        },
        "id": "Y1ZST73ehkc0",
        "outputId": "38b9316e-0622-4836-fa63-2dacc7739b51"
      },
      "outputs": [
        {
          "output_type": "display_data",
          "data": {
            "text/plain": [
              "<Figure size 1000x500 with 1 Axes>"
            ],
            "image/png": "[encoded data removed]"
          },
          "metadata": {}
        }
      ],
      "source": [
        "plt.figure(figsize=(10, 5))\n",
        "\n",
        "# Plot Newton's Method\n",
        "plt.plot(results_newton['dataset_size'], results_newton['Newton_accuracy'],\n",
        "         marker='o', linestyle='None', label=\"Newton's Method\")\n",
        "\n",
        "# Plot Gradient Descent\n",
        "plt.plot(results_gd['dataset_size'], results_gd['GD_accuracy'],\n",
        "         marker='s', linestyle='None', label=\"Gradient Descent\")\n",
        "\n",
        "plt.xlabel(\"Dataset Size\")\n",
        "plt.ylabel(\"Accuracy\")\n",
        "plt.xlim(0, 100)\n",
        "plt.ylim(0, 1.1)\n",
        "plt.title(\"Accuracy vs Dataset Size\")\n",
        "plt.legend()\n",
        "plt.grid()\n",
        "plt.show()\n"
      ]
    },
    {
      "cell_type": "markdown",
      "source": [
        "Then we plot time vs amount of features"
      ],
      "metadata": {
        "id": "yYcnyDjAtWc7"
      }
    },
    {
      "cell_type": "code",
      "execution_count": null,
      "metadata": {
        "colab": {
          "base_uri": "https://localhost:8080/",
          "height": 487
        },
        "id": "FE6942DFrpIW",
        "outputId": "71d6a77d-bded-40ef-c28c-ab1d7f93e53b"
      },
      "outputs": [
        {
          "output_type": "display_data",
          "data": {
            "text/plain": [
              "<Figure size 1000x500 with 1 Axes>"
            ],
            "image/png": "[encoded data removed]"
          },
          "metadata": {}
        }
      ],
      "source": [
        "plt.figure(figsize=(10, 5))\n",
        "\n",
        "# Plot Newton's Method\n",
        "plt.plot(results_newton['dataset_size'], results_newton['Newton_time'],\n",
        "         marker='o', linestyle='None', label=\"Newton's Method\")\n",
        "\n",
        "# Plot Gradient Descent\n",
        "plt.plot(results_gd['dataset_size'], results_gd['GD_time'],\n",
        "         marker='s', linestyle='None', label=\"Gradient Descent\")\n",
        "\n",
        "plt.xlabel(\"Dataset Size\")\n",
        "plt.ylabel(\"Time (sec)\")\n",
        "plt.xlim(0, 100)\n",
        "plt.ylim(0, 40)\n",
        "plt.title(\"Time vs Dataset Size\")\n",
        "plt.legend()\n",
        "plt.grid()\n",
        "plt.show()\n"
      ]
    },
    {
      "cell_type": "markdown",
      "source": [
        "Iterations vs time taken"
      ],
      "metadata": {
        "id": "ndhPrsPztbzz"
      }
    },
    {
      "cell_type": "code",
      "execution_count": null,
      "metadata": {
        "colab": {
          "base_uri": "https://localhost:8080/",
          "height": 487
        },
        "id": "kpnypqTIwD17",
        "outputId": "1eeb291a-9856-453f-d9f4-73fc3c1dd707"
      },
      "outputs": [
        {
          "output_type": "display_data",
          "data": {
            "text/plain": [
              "<Figure size 1000x500 with 1 Axes>"
            ],
            "image/png": "[encoded data removed]"
          },
          "metadata": {}
        }
      ],
      "source": [
        "plt.figure(figsize=(10, 5))\n",
        "\n",
        "# Newton's Method\n",
        "plt.plot(results_newton['Newton_iterations'], results_newton['Newton_time'],\n",
        "         marker='o', linestyle='None', label=\"Newton's Method\")\n",
        "\n",
        "# Gradient Descent\n",
        "plt.plot(results_gd['GD_iterations'], results_gd['GD_time'],\n",
        "         marker='s', linestyle='None', label=\"Gradient Descent\")\n",
        "\n",
        "plt.xlabel(\"Number of Iterations\")\n",
        "plt.ylabel(\"Time (seconds)\")\n",
        "plt.title(\"Iterations vs Time\")\n",
        "plt.legend()\n",
        "plt.grid()\n",
        "plt.show()\n"
      ]
    },
    {
      "cell_type": "markdown",
      "source": [
        "Accuracy reached vs iterations required"
      ],
      "metadata": {
        "id": "NwmNMRm_tiXL"
      }
    },
    {
      "cell_type": "code",
      "execution_count": null,
      "metadata": {
        "colab": {
          "base_uri": "https://localhost:8080/",
          "height": 487
        },
        "id": "KaqhAUEBzKwB",
        "outputId": "d49883dd-6df4-46fc-c58e-f7a45eaa67d4"
      },
      "outputs": [
        {
          "output_type": "display_data",
          "data": {
            "text/plain": [
              "<Figure size 1000x500 with 1 Axes>"
            ],
            "image/png": "[encoded data removed]"
          },
          "metadata": {}
        }
      ],
      "source": [
        "plt.figure(figsize=(10, 5))\n",
        "\n",
        "# Newton's Method\n",
        "plt.plot(results_newton['Newton_iterations'], results_newton['Newton_accuracy'],\n",
        "         marker='o', linestyle='None', label=\"Newton's Method\")\n",
        "\n",
        "# Gradient Descent\n",
        "plt.plot(results_gd['GD_iterations'], results_gd['GD_accuracy'],\n",
        "         marker='s', linestyle='None', label=\"Gradient Descent\")\n",
        "\n",
        "plt.xlabel(\"Number of Iterations\")\n",
        "plt.ylabel(\"Accuracy\")\n",
        "plt.title(\"Accuracy vs Iterations\")\n",
        "plt.legend()\n",
        "plt.grid()\n",
        "plt.show()\n"
      ]
    },
    {
      "cell_type": "markdown",
      "source": [
        "Finally, we plot accuracy vs time taken"
      ],
      "metadata": {
        "id": "DeJzGQcCtttM"
      }
    },
    {
      "cell_type": "code",
      "execution_count": null,
      "metadata": {
        "colab": {
          "base_uri": "https://localhost:8080/",
          "height": 487
        },
        "id": "QJkGe3_Z00X2",
        "outputId": "9192440d-ba97-4b39-a257-e848c00d3d80"
      },
      "outputs": [
        {
          "output_type": "display_data",
          "data": {
            "text/plain": [
              "<Figure size 1000x500 with 1 Axes>"
            ],
            "image/png": "[encoded data removed]"
          },
          "metadata": {}
        }
      ],
      "source": [
        "plt.figure(figsize=(10, 5))\n",
        "\n",
        "# Newton's Method\n",
        "plt.plot(results_newton['Newton_time'], results_newton['Newton_accuracy'],\n",
        "         marker='o', linestyle='None', label=\"Newton's Method\")\n",
        "\n",
        "# Gradient Descent\n",
        "plt.plot(results_gd['GD_time'], results_gd['GD_accuracy'],\n",
        "         marker='s', linestyle='None', label=\"Gradient Descent\")\n",
        "\n",
        "plt.xlabel(\"Time (seconds)\")\n",
        "plt.ylabel(\"Accuracy\")\n",
        "plt.title(\"Accuracy vs Time\")\n",
        "plt.legend()\n",
        "plt.grid()\n",
        "plt.show()\n"
      ]
    }
  ],
  "metadata": {
    "colab": {
      "provenance": []
    },
    "kernelspec": {
      "display_name": "Python 3",
      "name": "python3"
    },
    "language_info": {
      "name": "python"
    }
  },
  "nbformat": 4,
  "nbformat_minor": 0
}